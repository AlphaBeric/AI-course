{
  "nbformat": 4,
  "nbformat_minor": 0,
  "metadata": {
    "colab": {
      "name": "Week1 Assignment.ipynb",
      "version": "0.3.2",
      "provenance": [],
      "include_colab_link": true
    },
    "kernelspec": {
      "name": "python3",
      "display_name": "Python 3"
    }
  },
  "cells": [
    {
      "cell_type": "markdown",
      "metadata": {
        "id": "view-in-github",
        "colab_type": "text"
      },
      "source": [
        "[View in Colaboratory](https://colab.research.google.com/github/ShabatA/AI-course/blob/master/Day%201/Week1_Assignment.ipynb)"
      ]
    },
    {
      "metadata": {
        "id": "qMYiTBCfANl6",
        "colab_type": "text"
      },
      "cell_type": "markdown",
      "source": [
        "# Assignment 1:\n"
      ]
    },
    {
      "metadata": {
        "id": "GdYVcxUp4STS",
        "colab_type": "text"
      },
      "cell_type": "markdown",
      "source": [
        "**Question 1:**\n",
        "\n",
        "Write a program that tells you the following:\n",
        "* Hours in a year. How many hours are in a year?\n",
        "* Minutes in a decade. How many minutes are in a decade?\n",
        "* Your age in seconds. How many seconds old are you? (I'm not going to check your answer, so be as accurate—or not—as you want.)\n",
        "* Abuobayda Shabat: Im 946708560 second old. Can you guess my age (year)?"
      ]
    },
    {
      "metadata": {
        "id": "S3PWywnP4Iac",
        "colab_type": "code",
        "colab": {}
      },
      "cell_type": "code",
      "source": [
        "#Write your code here\n"
      ],
      "execution_count": 0,
      "outputs": []
    },
    {
      "metadata": {
        "id": "zhBcl6Ud6lPy",
        "colab_type": "text"
      },
      "cell_type": "markdown",
      "source": [
        "**Question 2:**\n",
        "\n",
        "Write a program that asks for a person’s first name, then middle, and then last. Finally, it should greet the person using their full name."
      ]
    },
    {
      "metadata": {
        "id": "Leix0qfQ68Lz",
        "colab_type": "code",
        "colab": {}
      },
      "cell_type": "code",
      "source": [
        "#Write your code here\n"
      ],
      "execution_count": 0,
      "outputs": []
    },
    {
      "metadata": {
        "id": "wORLjL0d7Okr",
        "colab_type": "text"
      },
      "cell_type": "markdown",
      "source": [
        "**Question 3**:\n",
        "\n",
        "Write an angry boss program that rudely asks what you want. Whatever you answer, the angry boss should yell it back to you and then fire you. For example, if you type in I want a raise, it should yell back like this:\n",
        "\n",
        "WHADDAYA MEAN \"I WANT A RAISE\"?!? YOU'RE FIRED!!"
      ]
    },
    {
      "metadata": {
        "id": "WAaXImxb7Nob",
        "colab_type": "code",
        "colab": {}
      },
      "cell_type": "code",
      "source": [
        "#Write your code here\n"
      ],
      "execution_count": 0,
      "outputs": []
    },
    {
      "metadata": {
        "id": "mCBNLR8G7yd6",
        "colab_type": "text"
      },
      "cell_type": "markdown",
      "source": [
        "**Question 4:**\n",
        "\n",
        "* Write a Deaf grandma program. Whatever you say to Grandma (whatever you type in), she should respond with this: \n",
        "\n",
        "**HUH?! SPEAK UP, Boy!**\n",
        "\n",
        "unless you shout it (type in all capitals). If you shout, she can hear you (or at least she thinks so) and yells back:\n",
        "\n",
        "**NO, NOT SINCE 1938!**\n",
        "\n",
        "To make your program really believable, have Grandma shout a different year each time, maybe any year at random between 1930 and 1950.\n",
        "\n",
        "(This part is optional and would be much easier if you read the section on Python’s random number generator under the Math Object.) You can’t stop talking to Grandma until you shout BYE.\n",
        "\n",
        "* Hint: Try to think about what parts of your program should happen over and over again. All of those should be in your while loop.\n"
      ]
    },
    {
      "metadata": {
        "id": "0Ago9Ox99Ctk",
        "colab_type": "code",
        "colab": {}
      },
      "cell_type": "code",
      "source": [
        "#Write your code here\n"
      ],
      "execution_count": 0,
      "outputs": []
    },
    {
      "metadata": {
        "id": "uvv2FGaY9y_C",
        "colab_type": "text"
      },
      "cell_type": "markdown",
      "source": [
        "**Question 5:**\n",
        "\n",
        "What if Grandma doesn’t want you to leave? When you shout BYE, she could pretend not to hear you. Change your previous program so that you have to shout BYE three times in a row. \n",
        "\n",
        "Make sure to test your program: if you shout BYE three times but not in a row, you should still be talking to Grandma."
      ]
    },
    {
      "metadata": {
        "id": "Wyl05QMR9-Oc",
        "colab_type": "code",
        "colab": {}
      },
      "cell_type": "code",
      "source": [
        "#Write your code here"
      ],
      "execution_count": 0,
      "outputs": []
    },
    {
      "metadata": {
        "id": "3R0bEN71-akU",
        "colab_type": "text"
      },
      "cell_type": "markdown",
      "source": [
        "**Question 6:**\n",
        "\n",
        "Write a program that when passed an integer between 1 and 3000 (or so) returns a string containing the proper old-school Roman numeral. \n",
        "\n",
        "In other words, old_roman_numeral (4) should return 'IIII'. Make sure to test your method on a bunch of different numbers.\n",
        "\n",
        "Hint: Use the integer division and modulus methods.\n",
        "\n",
        "For reference, these are the values of the letters used: \n",
        "\n",
        "I= 1    V = 5   X = 10   L = 50 C = 100    D = 500   M = 1000\n",
        "\n",
        "[Roman Number](https://en.wikipedia.org/wiki/Roman_numerals)"
      ]
    },
    {
      "metadata": {
        "id": "fQs-LHEy-A92",
        "colab_type": "code",
        "colab": {}
      },
      "cell_type": "code",
      "source": [
        "#Write your code here"
      ],
      "execution_count": 0,
      "outputs": []
    },
    {
      "metadata": {
        "id": "8uE400tZ_mhj",
        "colab_type": "text"
      },
      "cell_type": "markdown",
      "source": [
        "**Question 7:**\n",
        "\n",
        "Leap years are years divisible by 4 (like 1984 and 2004). However, years divisible by 100 are not leap years (such as 1800 and 1900) unless they are also divisible by 400 (such as 1600 and 2000, which were in fact leap years). \n",
        "\n",
        "Write a program that asks for a starting year and an ending year and then puts all the leap years between them (and including them, if they are also leap years)"
      ]
    },
    {
      "metadata": {
        "id": "2k8oIkNwAGZd",
        "colab_type": "code",
        "colab": {}
      },
      "cell_type": "code",
      "source": [
        "#Write your code here"
      ],
      "execution_count": 0,
      "outputs": []
    }
  ]
}
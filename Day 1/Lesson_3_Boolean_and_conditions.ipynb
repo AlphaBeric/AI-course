{
  "nbformat": 4,
  "nbformat_minor": 0,
  "metadata": {
    "colab": {
      "name": "Lesson 3 Boolean and conditions.ipynb",
      "version": "0.3.2",
      "provenance": [],
      "include_colab_link": true
    },
    "kernelspec": {
      "display_name": "Python 3",
      "language": "python",
      "name": "python3"
    }
  },
  "cells": [
    {
      "cell_type": "markdown",
      "metadata": {
        "id": "view-in-github",
        "colab_type": "text"
      },
      "source": [
        "[View in Colaboratory](https://colab.research.google.com/github/ShabatA/AI-course/blob/master/Day%201/Lesson_3_Boolean_and_conditions.ipynb)"
      ]
    },
    {
      "metadata": {
        "id": "ISAhh0Yt_sHj",
        "colab_type": "text"
      },
      "cell_type": "markdown",
      "source": [
        "# Booleans\n",
        "\n",
        "Python has a type `bool` which can take on one of two values: `True` and `False`."
      ]
    },
    {
      "metadata": {
        "id": "Z2iZDvyB_sHl",
        "colab_type": "code",
        "colab": {
          "base_uri": "https://localhost:8080/",
          "height": 51
        },
        "outputId": "2c7dcbdd-f429-4bb2-9835-8b0b11ced8ab"
      },
      "cell_type": "code",
      "source": [
        "x = True\n",
        "print(x)\n",
        "print(type(x))"
      ],
      "execution_count": 1,
      "outputs": [
        {
          "output_type": "stream",
          "text": [
            "True\n",
            "<class 'bool'>\n"
          ],
          "name": "stdout"
        }
      ]
    },
    {
      "metadata": {
        "id": "FjjfosgM_sHr",
        "colab_type": "text"
      },
      "cell_type": "markdown",
      "source": [
        "Rather than putting `True` or `False` directly in our code, we usually get boolean values from **boolean operators**. These are operators that answer yes/no questions. We'll go through some of these operators below. "
      ]
    },
    {
      "metadata": {
        "id": "UJo6d0G0_sHs",
        "colab_type": "text"
      },
      "cell_type": "markdown",
      "source": [
        "## Comparison Operations\n",
        "\n",
        "| Operation     | Description                       || Operation     | Description                          |\n",
        "|---------------|-----------------------------------||---------------|--------------------------------------|\n",
        "| ``a == b``    | ``a`` equal to ``b``              || ``a != b``    | ``a`` not equal to ``b``             |\n",
        "| ``a < b``     | ``a`` less than ``b``             || ``a > b``     | ``a`` greater than ``b``             |\n",
        "| ``a <= b``    | ``a`` less than or equal to ``b`` || ``a >= b``    | ``a`` greater than or equal to ``b`` |\n",
        "\n"
      ]
    },
    {
      "metadata": {
        "id": "y3vv0iw2_sHu",
        "colab_type": "code",
        "colab": {
          "base_uri": "https://localhost:8080/",
          "height": 51
        },
        "outputId": "95adcc9c-b739-4074-ce54-bb2bd52d307f"
      },
      "cell_type": "code",
      "source": [
        "def can_run_for_president(age):\n",
        "    \"\"\"Can someone of the given age run for president in the US?\"\"\"\n",
        "    # The US Constitution says you must \"have attained to the Age of thirty-five Years\"\n",
        "    return age >= 35\n",
        "\n",
        "print(\"Can a 19-year-old run for president?\", can_run_for_president(19))\n",
        "print(\"Can a 45-year-old run for president?\", can_run_for_president(45))"
      ],
      "execution_count": 2,
      "outputs": [
        {
          "output_type": "stream",
          "text": [
            "Can a 19-year-old run for president? False\n",
            "Can a 45-year-old run for president? True\n"
          ],
          "name": "stdout"
        }
      ]
    },
    {
      "metadata": {
        "id": "6_fE6LSO_sHx",
        "colab_type": "text"
      },
      "cell_type": "markdown",
      "source": [
        "Comparisons are a little bit clever..."
      ]
    },
    {
      "metadata": {
        "id": "DLjlSxGP_sHy",
        "colab_type": "code",
        "colab": {
          "base_uri": "https://localhost:8080/",
          "height": 34
        },
        "outputId": "027766a4-0926-4390-9026-12ca275cf000"
      },
      "cell_type": "code",
      "source": [
        "3.0 == 3"
      ],
      "execution_count": 3,
      "outputs": [
        {
          "output_type": "execute_result",
          "data": {
            "text/plain": [
              "True"
            ]
          },
          "metadata": {
            "tags": []
          },
          "execution_count": 3
        }
      ]
    },
    {
      "metadata": {
        "id": "DFPd7XBD_sH3",
        "colab_type": "text"
      },
      "cell_type": "markdown",
      "source": [
        "But not too clever..."
      ]
    },
    {
      "metadata": {
        "id": "9_g9h_zi_sH4",
        "colab_type": "code",
        "colab": {
          "base_uri": "https://localhost:8080/",
          "height": 34
        },
        "outputId": "c193601f-a628-4c88-e8a8-f5fe17993263"
      },
      "cell_type": "code",
      "source": [
        "'3' == 3"
      ],
      "execution_count": 4,
      "outputs": [
        {
          "output_type": "execute_result",
          "data": {
            "text/plain": [
              "False"
            ]
          },
          "metadata": {
            "tags": []
          },
          "execution_count": 4
        }
      ]
    },
    {
      "metadata": {
        "id": "VGfdP0CG_sH8",
        "colab_type": "text"
      },
      "cell_type": "markdown",
      "source": [
        "Comparison operators can be combined with the arithmetic operators we've already seen to express a virtually limitless range of mathematical tests. For example, we can check if a number is odd by checking that the modulus with 2 returns 1:"
      ]
    },
    {
      "metadata": {
        "id": "4D5k1Hbk_sH9",
        "colab_type": "code",
        "colab": {
          "base_uri": "https://localhost:8080/",
          "height": 51
        },
        "outputId": "d443a5fb-deca-42b6-c70d-e85809d0b751"
      },
      "cell_type": "code",
      "source": [
        "def is_odd(n):\n",
        "    return (n % 2) == 1\n",
        "\n",
        "print(\"Is 100 odd?\", is_odd(100))\n",
        "print(\"Is -1 odd?\", is_odd(-1))"
      ],
      "execution_count": 5,
      "outputs": [
        {
          "output_type": "stream",
          "text": [
            "Is 100 odd? False\n",
            "Is -1 odd? True\n"
          ],
          "name": "stdout"
        }
      ]
    },
    {
      "metadata": {
        "id": "Hxyc1CDv_sIB",
        "colab_type": "text"
      },
      "cell_type": "markdown",
      "source": [
        "Remember to use `==` instead of `=` when making comparisons. If you write `n == 2` you are asking about the value of n. When you write `n = 2` you are changing the value of n."
      ]
    },
    {
      "metadata": {
        "id": "lgqWI5-C_sID",
        "colab_type": "text"
      },
      "cell_type": "markdown",
      "source": [
        "## Combining Boolean Values\n",
        "Python provides operators to combine boolean values using the standard concepts of \"and\", \"or\", and \"not\". And in fact, the corresponding Python operators use just those words: ``and``, ``or``, and ``not``.\n",
        "\n",
        "With these, we can make our `can_run_for_president` function more accurate."
      ]
    },
    {
      "metadata": {
        "id": "xjsrqHVV_sIE",
        "colab_type": "code",
        "colab": {
          "base_uri": "https://localhost:8080/",
          "height": 68
        },
        "outputId": "78937df4-cf4f-4a29-9fab-e5e245e87cce"
      },
      "cell_type": "code",
      "source": [
        "def can_run_for_president(age, is_natural_born_citizen):\n",
        "    \"\"\"Can someone of the given age and citizenship status run for president in the US?\"\"\"\n",
        "    # The US Constitution says you must be a natural born citizen *and* at least 35 years old\n",
        "    return is_natural_born_citizen and (age >= 35)\n",
        "\n",
        "print(can_run_for_president(19, True))\n",
        "print(can_run_for_president(55, False))\n",
        "print(can_run_for_president(55, True))"
      ],
      "execution_count": 6,
      "outputs": [
        {
          "output_type": "stream",
          "text": [
            "False\n",
            "False\n",
            "True\n"
          ],
          "name": "stdout"
        }
      ]
    },
    {
      "metadata": {
        "id": "effHdJE3_sII",
        "colab_type": "text"
      },
      "cell_type": "markdown",
      "source": [
        "Quick, can you guess the value of this expression?"
      ]
    },
    {
      "metadata": {
        "id": "rO1HBSF3_sIK",
        "colab_type": "code",
        "colab": {
          "base_uri": "https://localhost:8080/",
          "height": 34
        },
        "outputId": "73e50485-4261-46a5-c810-059ab03df855"
      },
      "cell_type": "code",
      "source": [
        "True or True and False"
      ],
      "execution_count": 7,
      "outputs": [
        {
          "output_type": "execute_result",
          "data": {
            "text/plain": [
              "True"
            ]
          },
          "metadata": {
            "tags": []
          },
          "execution_count": 7
        }
      ]
    },
    {
      "metadata": {
        "id": "VqO24WKe_sIQ",
        "colab_type": "text"
      },
      "cell_type": "markdown",
      "source": [
        "(Click the \"output\" button to see the answer)\n",
        "\n",
        "Python has precedence rules that determine the order in which operations get evaluated in expressions like above. For example, `and` has a higher precedence than `or`, which is why the first expression above is `True`. If we had evaluated it from left to right, we would have calculated `True or True` first (which is `True`), and then taken the `and` of that result with `False`, giving a final value of `False`.\n",
        "\n",
        "You could try to [memorize the order of precedence](https://docs.python.org/3/reference/expressions.html#operator-precedence), but a safer bet is to just use liberal parentheses. Not only does this help prevent bugs, it makes your intentions clearer to anyone who reads your code. \n",
        "\n",
        "For example, consider the following expression:\n",
        "\n",
        "```python\n",
        "prepared_for_weather = have_umbrella or rain_level < 5 and have_hood or not rain_level > 0 and is_workday\n",
        "```\n",
        "\n",
        "I'm trying to say that I'm safe from today's weather....\n",
        "- if I have an umbrella...\n",
        "- or if the rain isn't too heavy and I have a hood...\n",
        "- otherwise, I'm still fine unless it's raining *and* it's a workday\n",
        "\n",
        "But not only is my Python code hard to read, it has a bug. We can address both problems by adding some parentheses:\n",
        "\n",
        "```python\n",
        "prepared_for_weather = have_umbrella or (rain_level < 5 and have_hood) or not (rain_level > 0 and is_workday)\n",
        "```\n",
        "\n",
        "You can add even more parentheses if you think it helps readability:\n",
        "\n",
        "```python\n",
        "prepared_for_weather = have_umbrella or ((rain_level < 5) and have_hood) or (not (rain_level > 0 and is_workday))\n",
        "```\n",
        "\n",
        "We can also split it over multiple lines to emphasize the 3-part structure described above:\n",
        "\n",
        "```python\n",
        "prepared_for_weather = (\n",
        "    have_umbrella \n",
        "    or ((rain_level < 5) and have_hood) \n",
        "    or (not (rain_level > 0 and is_workday))\n",
        ")\n",
        "```"
      ]
    },
    {
      "metadata": {
        "id": "WEjOnIKv_sIS",
        "colab_type": "text"
      },
      "cell_type": "markdown",
      "source": [
        "# Conditionals\n",
        "\n",
        "While useful enough in their own right, booleans really start to shine when combined with *conditional statements*, using the keywords ``if``, ``elif``, and ``else``.\n",
        "\n",
        "Conditional statements, often referred to as *if-then* statements, allow the programmer to execute certain pieces of code depending on some Boolean condition.\n",
        "A basic example of a Python conditional statement is this:"
      ]
    },
    {
      "metadata": {
        "id": "ZW1q3OcN_sIS",
        "colab_type": "code",
        "colab": {
          "base_uri": "https://localhost:8080/",
          "height": 51
        },
        "outputId": "33ec9e73-4a26-4f42-be06-fa7fc739fe9b"
      },
      "cell_type": "code",
      "source": [
        "def inspect(x):\n",
        "    if x == 0:\n",
        "        print(x, \"is zero\")\n",
        "    elif x > 0:\n",
        "        print(x, \"is positive\")\n",
        "    elif x < 0:\n",
        "        print(x, \"is negative\")\n",
        "    else:\n",
        "        print(x, \"is unlike anything I've ever seen...\")\n",
        "\n",
        "inspect(0)\n",
        "inspect(-15)"
      ],
      "execution_count": 8,
      "outputs": [
        {
          "output_type": "stream",
          "text": [
            "0 is zero\n",
            "-15 is negative\n"
          ],
          "name": "stdout"
        }
      ]
    },
    {
      "metadata": {
        "id": "DCSRpo-t_sIX",
        "colab_type": "text"
      },
      "cell_type": "markdown",
      "source": [
        "Python adopts the ``if`` and ``else`` often used in other languages; its more unique keyword is ``elif``, a contraction of \"else if\".\n",
        "In these conditional clauses, ``elif`` and ``else`` blocks are optional; additionally, you can include as many ``elif`` statements as you would like.\n",
        "\n",
        "Note especially the use of colons (``:``) and whitespace to denote separate blocks of code. This is similar to what happens when we define a function - the function header ends with `:`, and the following line is indented with 4 spaces. All subsequent indented lines belong to the body of the function, until we encounter an unindented line, ending the function definition."
      ]
    },
    {
      "metadata": {
        "id": "icH8U7zx_sIY",
        "colab_type": "code",
        "colab": {
          "base_uri": "https://localhost:8080/",
          "height": 85
        },
        "outputId": "a2492a28-76e5-439c-cba5-b903e520bae8"
      },
      "cell_type": "code",
      "source": [
        "def f(x):\n",
        "    if x > 0:\n",
        "        print(\"Only printed when x is positive; x =\", x)\n",
        "        print(\"Also only printed when x is positive; x =\", x)\n",
        "    print(\"Always printed, regardless of x's value; x =\", x)\n",
        "\n",
        "f(1)\n",
        "f(0)"
      ],
      "execution_count": 9,
      "outputs": [
        {
          "output_type": "stream",
          "text": [
            "Only printed when x is positive; x = 1\n",
            "Also only printed when x is positive; x = 1\n",
            "Always printed, regardless of x's value; x = 1\n",
            "Always printed, regardless of x's value; x = 0\n"
          ],
          "name": "stdout"
        }
      ]
    },
    {
      "metadata": {
        "id": "jROZiqsH_sId",
        "colab_type": "text"
      },
      "cell_type": "markdown",
      "source": [
        "## Boolean conversion\n",
        "\n",
        "We've seen `int()`, which turns things into ints, and `float()`, which turns things into floats, so you might not be surprised to hear that Python has a `bool()` function which turns things into bools."
      ]
    },
    {
      "metadata": {
        "id": "_N3Yd3Xc_sIe",
        "colab_type": "code",
        "colab": {
          "base_uri": "https://localhost:8080/",
          "height": 85
        },
        "outputId": "c79bb458-9916-4b45-8385-f981289ca6eb"
      },
      "cell_type": "code",
      "source": [
        "print(bool(1)) # all numbers are treated as true, except 0\n",
        "print(bool(0))\n",
        "print(bool(\"asf\")) # all strings are treated as true, except the empty string \"\"\n",
        "print(bool(\"\"))\n",
        "# Generally empty sequences (strings, lists, and other types we've yet to see like lists and tuples)\n",
        "# are \"falsey\" and the rest are \"truthy\""
      ],
      "execution_count": 10,
      "outputs": [
        {
          "output_type": "stream",
          "text": [
            "True\n",
            "False\n",
            "True\n",
            "False\n"
          ],
          "name": "stdout"
        }
      ]
    },
    {
      "metadata": {
        "id": "QLRP-FL4_sIk",
        "colab_type": "text"
      },
      "cell_type": "markdown",
      "source": [
        "We can use non-boolean objects in `if` conditions and other places where a boolean would be expected. Python will implicitly treat them as their corresponding boolean value:"
      ]
    },
    {
      "metadata": {
        "id": "KiFwlbkr_sIl",
        "colab_type": "code",
        "colab": {
          "base_uri": "https://localhost:8080/",
          "height": 34
        },
        "outputId": "cb482bbf-f574-41b3-c6d5-71308e46c22d"
      },
      "cell_type": "code",
      "source": [
        "if 0:\n",
        "    print(0)\n",
        "elif \"spam\":\n",
        "    print(\"spam\")"
      ],
      "execution_count": 11,
      "outputs": [
        {
          "output_type": "stream",
          "text": [
            "spam\n"
          ],
          "name": "stdout"
        }
      ]
    },
    {
      "metadata": {
        "id": "DNLfBp-y_sIo",
        "colab_type": "text"
      },
      "cell_type": "markdown",
      "source": [
        "## Conditional expressions (aka 'ternary')\n",
        "\n",
        "Setting a variable to either of two values depending on some condition is a pretty common pattern."
      ]
    },
    {
      "metadata": {
        "id": "qBAvLMOK_sIp",
        "colab_type": "code",
        "colab": {
          "base_uri": "https://localhost:8080/",
          "height": 34
        },
        "outputId": "83a7d4d4-addd-4106-eb8b-dd777787deb9"
      },
      "cell_type": "code",
      "source": [
        "def quiz_message(grade):\n",
        "    if grade < 50:\n",
        "        outcome = 'failed'\n",
        "    else:\n",
        "        outcome = 'passed'\n",
        "    print('You', outcome, 'the quiz with a grade of', grade)\n",
        "    \n",
        "quiz_message(80)"
      ],
      "execution_count": 12,
      "outputs": [
        {
          "output_type": "stream",
          "text": [
            "You passed the quiz with a grade of 80\n"
          ],
          "name": "stdout"
        }
      ]
    },
    {
      "metadata": {
        "id": "33BvTUTn_sIu",
        "colab_type": "text"
      },
      "cell_type": "markdown",
      "source": [
        "Python has a handy single-line 'conditional expression' syntax to simplify these cases:"
      ]
    },
    {
      "metadata": {
        "id": "Dk6SFS5F_sIv",
        "colab_type": "code",
        "colab": {
          "base_uri": "https://localhost:8080/",
          "height": 34
        },
        "outputId": "fe2ea713-10d0-4706-9592-71fe6d37950d"
      },
      "cell_type": "code",
      "source": [
        "def quiz_message(grade):\n",
        "    outcome = 'failed' if grade < 50 else 'passed'\n",
        "    print('You', outcome, 'the quiz with a grade of', grade)\n",
        "    \n",
        "quiz_message(45)"
      ],
      "execution_count": 13,
      "outputs": [
        {
          "output_type": "stream",
          "text": [
            "You failed the quiz with a grade of 45\n"
          ],
          "name": "stdout"
        }
      ]
    }
  ]
}
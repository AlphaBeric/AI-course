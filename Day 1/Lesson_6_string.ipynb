{
  "nbformat": 4,
  "nbformat_minor": 0,
  "metadata": {
    "colab": {
      "name": "Lesson 6_string.ipynb",
      "version": "0.3.2",
      "provenance": [],
      "include_colab_link": true
    },
    "kernelspec": {
      "display_name": "Python 3",
      "language": "python",
      "name": "python3"
    }
  },
  "cells": [
    {
      "cell_type": "markdown",
      "metadata": {
        "id": "view-in-github",
        "colab_type": "text"
      },
      "source": [
        "[View in Colaboratory](https://colab.research.google.com/github/ShabatA/AI-course/blob/master/Day%201/Lesson_6_string.ipynb)"
      ]
    },
    {
      "metadata": {
        "id": "iNqfjSvg1NJt",
        "colab_type": "text"
      },
      "cell_type": "markdown",
      "source": [
        "This lesson will be a double-shot of essential Python types: **strings** and **dictionaries**."
      ]
    },
    {
      "metadata": {
        "id": "Nr26eec31NJu",
        "colab_type": "text"
      },
      "cell_type": "markdown",
      "source": [
        "# Strings"
      ]
    },
    {
      "metadata": {
        "id": "P41_UbJi1NJv",
        "colab_type": "text"
      },
      "cell_type": "markdown",
      "source": [
        "One place where the Python language really shines is in the manipulation of strings.\n",
        "This section will cover some of Python's built-in string methods and formatting operations.\n",
        "\n",
        "Such string manipulation patterns come up often in the context of data science work, and is one big perk of Python in this context.\n",
        "\n",
        "## String syntax\n",
        "\n",
        "You've already seen plenty of strings in examples during the previous lessons, but just to recap, strings in Python can be defined using either single or double quotations. They are functionally equivalent."
      ]
    },
    {
      "metadata": {
        "id": "ak2Q8c3U1NJx",
        "colab_type": "code",
        "colab": {
          "base_uri": "https://localhost:8080/",
          "height": 34
        },
        "outputId": "ea499296-248b-4890-be60-aea7f1814cab"
      },
      "cell_type": "code",
      "source": [
        "x = 'Pluto is a planet'\n",
        "y = \"Pluto is a planet\"\n",
        "x == y"
      ],
      "execution_count": 4,
      "outputs": [
        {
          "output_type": "execute_result",
          "data": {
            "text/plain": [
              "True"
            ]
          },
          "metadata": {
            "tags": []
          },
          "execution_count": 4
        }
      ]
    },
    {
      "metadata": {
        "id": "Oy01T5FU1NJ1",
        "colab_type": "text"
      },
      "cell_type": "markdown",
      "source": [
        "Double quotes are convenient if your string contains a single quote character (e.g. representing an apostrophe).\n",
        "\n",
        "Similarly, it's easy to create a string that contains double-quotes if you wrap it in single quotes:"
      ]
    },
    {
      "metadata": {
        "id": "hlXEx19U1NJ2",
        "colab_type": "code",
        "colab": {
          "base_uri": "https://localhost:8080/",
          "height": 51
        },
        "outputId": "e58f446a-ec2d-46f0-c2b7-e662f2d85c3a"
      },
      "cell_type": "code",
      "source": [
        "print(\"Pluto's a planet!\")\n",
        "print('My dog is named \"Pluto\"')"
      ],
      "execution_count": 5,
      "outputs": [
        {
          "output_type": "stream",
          "text": [
            "Pluto's a planet!\n",
            "My dog is named \"Pluto\"\n"
          ],
          "name": "stdout"
        }
      ]
    },
    {
      "metadata": {
        "id": "qHNFatMD1NJ5",
        "colab_type": "text"
      },
      "cell_type": "markdown",
      "source": [
        "If we try to put a single quote character inside a single-quoted string, Python gets confused:"
      ]
    },
    {
      "metadata": {
        "id": "YjHh20cY1NJ5",
        "colab_type": "code",
        "colab": {
          "base_uri": "https://localhost:8080/",
          "height": 129
        },
        "outputId": "6ee1d927-4242-4ca6-a482-3f78e0bc2809"
      },
      "cell_type": "code",
      "source": [
        "'Pluto's a planet!'"
      ],
      "execution_count": 6,
      "outputs": [
        {
          "output_type": "error",
          "ename": "SyntaxError",
          "evalue": "ignored",
          "traceback": [
            "\u001b[0;36m  File \u001b[0;32m\"<ipython-input-6-a43631749f52>\"\u001b[0;36m, line \u001b[0;32m1\u001b[0m\n\u001b[0;31m    'Pluto's a planet!'\u001b[0m\n\u001b[0m           ^\u001b[0m\n\u001b[0;31mSyntaxError\u001b[0m\u001b[0;31m:\u001b[0m invalid syntax\n"
          ]
        }
      ]
    },
    {
      "metadata": {
        "id": "7G3s7o501NJ8",
        "colab_type": "text"
      },
      "cell_type": "markdown",
      "source": [
        "We can fix this by \"escaping\" the single quote with a backslash. "
      ]
    },
    {
      "metadata": {
        "id": "iCsy9-Ie1NJ-",
        "colab_type": "code",
        "colab": {
          "base_uri": "https://localhost:8080/",
          "height": 34
        },
        "outputId": "232020fd-ad92-4e65-a09c-1138322a4e4f"
      },
      "cell_type": "code",
      "source": [
        "'Pluto\\'s a planet!'"
      ],
      "execution_count": 7,
      "outputs": [
        {
          "output_type": "execute_result",
          "data": {
            "text/plain": [
              "\"Pluto's a planet!\""
            ]
          },
          "metadata": {
            "tags": []
          },
          "execution_count": 7
        }
      ]
    },
    {
      "metadata": {
        "id": "oUfIx49k1NKC",
        "colab_type": "text"
      },
      "cell_type": "markdown",
      "source": [
        "The table below summarizes some important uses of the backslash character.\n",
        "\n",
        "| What you type... | What you get | example               | `print(example)`             |\n",
        "|--------------|----------------|--------------------------------------------------------|\n",
        "| `\\'`         | `'`            | `'What\\'s up?'`         | `What's up?`                 |  \n",
        "| `\\\"`         | `\"`            | `\"That's \\\"cool\\\"\"`     | `That's \"cool\"`              |  \n",
        "| `\\\\`         | `\\`            |  `\"Look, a mountain: /\\\\\"` |  `Look, a mountain: /\\`  |\n",
        "| `\\n`        |   <br/>      |   `\"1\\n2 3\"`                       |   `1`<br/>`2 3`              |"
      ]
    },
    {
      "metadata": {
        "id": "VEiB0oqs1NKD",
        "colab_type": "text"
      },
      "cell_type": "markdown",
      "source": [
        "The last sequence, `\\n`, represents the *newline character*. It causes Python to start a new line."
      ]
    },
    {
      "metadata": {
        "id": "D1YmO0Xo1NKE",
        "colab_type": "code",
        "colab": {
          "base_uri": "https://localhost:8080/",
          "height": 51
        },
        "outputId": "8de5b4ce-46db-406e-a027-baf988a85a7d"
      },
      "cell_type": "code",
      "source": [
        "hello = \"hello\\nworld\"\n",
        "print(hello)"
      ],
      "execution_count": 8,
      "outputs": [
        {
          "output_type": "stream",
          "text": [
            "hello\n",
            "world\n"
          ],
          "name": "stdout"
        }
      ]
    },
    {
      "metadata": {
        "id": "SEy96rzg1NKG",
        "colab_type": "text"
      },
      "cell_type": "markdown",
      "source": [
        "In addition, Python's triple quote syntax for strings lets us include newlines literally (i.e. by just hitting 'Enter' on our keyboard, rather than using the special '\\n' sequence). We've already seen this in the docstrings we use to document our functions, but we can use them anywhere we want to define a string."
      ]
    },
    {
      "metadata": {
        "id": "Qp79__t61NKH",
        "colab_type": "code",
        "colab": {
          "base_uri": "https://localhost:8080/",
          "height": 68
        },
        "outputId": "7eb01501-bcf6-49f2-89b0-95de29ede7d1"
      },
      "cell_type": "code",
      "source": [
        "triplequoted_hello = \"\"\"hello\n",
        "world\"\"\"\n",
        "print(triplequoted_hello)\n",
        "triplequoted_hello == hello"
      ],
      "execution_count": 9,
      "outputs": [
        {
          "output_type": "stream",
          "text": [
            "hello\n",
            "world\n"
          ],
          "name": "stdout"
        },
        {
          "output_type": "execute_result",
          "data": {
            "text/plain": [
              "True"
            ]
          },
          "metadata": {
            "tags": []
          },
          "execution_count": 9
        }
      ]
    },
    {
      "metadata": {
        "id": "99XOtNGF1NKI",
        "colab_type": "text"
      },
      "cell_type": "markdown",
      "source": [
        "The `print()` function automatically adds a newline character unless we specify a value for the keyword argument `end` other than the default value of `'\\n'`:"
      ]
    },
    {
      "metadata": {
        "id": "T813H4Eg1NKJ",
        "colab_type": "code",
        "colab": {
          "base_uri": "https://localhost:8080/",
          "height": 68
        },
        "outputId": "dfe2372b-ec17-4779-ddbe-0cb2027a5efb"
      },
      "cell_type": "code",
      "source": [
        "print(\"hello\")\n",
        "print(\"world\")\n",
        "print(\"hello\", end='')\n",
        "print(\"pluto\", end='')"
      ],
      "execution_count": 10,
      "outputs": [
        {
          "output_type": "stream",
          "text": [
            "hello\n",
            "world\n",
            "hellopluto"
          ],
          "name": "stdout"
        }
      ]
    },
    {
      "metadata": {
        "id": "UrIBqwH41NKM",
        "colab_type": "text"
      },
      "cell_type": "markdown",
      "source": [
        "## Strings are sequences\n",
        "\n",
        "Strings can be thought of as sequences of characters. Almost everything we've seen that we can do to a list, we can also do to a string."
      ]
    },
    {
      "metadata": {
        "id": "iOy9zu3A1NKN",
        "colab_type": "code",
        "colab": {
          "base_uri": "https://localhost:8080/",
          "height": 34
        },
        "outputId": "921148b8-0396-4d74-eb2a-35070ff59942"
      },
      "cell_type": "code",
      "source": [
        "# Indexing\n",
        "planet = 'Pluto'\n",
        "planet[0]"
      ],
      "execution_count": 11,
      "outputs": [
        {
          "output_type": "execute_result",
          "data": {
            "text/plain": [
              "'P'"
            ]
          },
          "metadata": {
            "tags": []
          },
          "execution_count": 11
        }
      ]
    },
    {
      "metadata": {
        "id": "oJzDZa4t1NKP",
        "colab_type": "code",
        "colab": {
          "base_uri": "https://localhost:8080/",
          "height": 34
        },
        "outputId": "c0f568c2-c1d1-4db7-a20a-28bfbef26f00"
      },
      "cell_type": "code",
      "source": [
        "# Slicing\n",
        "planet[-3:]"
      ],
      "execution_count": 12,
      "outputs": [
        {
          "output_type": "execute_result",
          "data": {
            "text/plain": [
              "'uto'"
            ]
          },
          "metadata": {
            "tags": []
          },
          "execution_count": 12
        }
      ]
    },
    {
      "metadata": {
        "id": "645f1yy71NKS",
        "colab_type": "code",
        "colab": {
          "base_uri": "https://localhost:8080/",
          "height": 34
        },
        "outputId": "26ad9d25-7563-493b-8dec-f94ddc367828"
      },
      "cell_type": "code",
      "source": [
        "# How long is this string?\n",
        "len(planet)"
      ],
      "execution_count": 13,
      "outputs": [
        {
          "output_type": "execute_result",
          "data": {
            "text/plain": [
              "5"
            ]
          },
          "metadata": {
            "tags": []
          },
          "execution_count": 13
        }
      ]
    },
    {
      "metadata": {
        "id": "2kTu2vnZ1NKT",
        "colab_type": "code",
        "colab": {
          "base_uri": "https://localhost:8080/",
          "height": 34
        },
        "outputId": "c9d899a3-4845-48ca-e3a3-17b9a96e0506"
      },
      "cell_type": "code",
      "source": [
        "# Yes, we can even loop over them\n",
        "[char+'! ' for char in planet]"
      ],
      "execution_count": 14,
      "outputs": [
        {
          "output_type": "execute_result",
          "data": {
            "text/plain": [
              "['P! ', 'l! ', 'u! ', 't! ', 'o! ']"
            ]
          },
          "metadata": {
            "tags": []
          },
          "execution_count": 14
        }
      ]
    },
    {
      "metadata": {
        "id": "6egBPN0B1NKW",
        "colab_type": "text"
      },
      "cell_type": "markdown",
      "source": [
        "But a major way in which they differ from lists is that they are *immutable*. We can't modify them."
      ]
    },
    {
      "metadata": {
        "id": "Oqa17VRz1NKW",
        "colab_type": "code",
        "colab": {
          "base_uri": "https://localhost:8080/",
          "height": 180
        },
        "outputId": "8ee27eda-ede4-4e13-df50-e66ee704b46b"
      },
      "cell_type": "code",
      "source": [
        "planet[0] = 'B'\n",
        "# planet.append doesn't work either"
      ],
      "execution_count": 15,
      "outputs": [
        {
          "output_type": "error",
          "ename": "TypeError",
          "evalue": "ignored",
          "traceback": [
            "\u001b[0;31m---------------------------------------------------------------------------\u001b[0m",
            "\u001b[0;31mTypeError\u001b[0m                                 Traceback (most recent call last)",
            "\u001b[0;32m<ipython-input-15-6ca42463b9f9>\u001b[0m in \u001b[0;36m<module>\u001b[0;34m()\u001b[0m\n\u001b[0;32m----> 1\u001b[0;31m \u001b[0mplanet\u001b[0m\u001b[0;34m[\u001b[0m\u001b[0;36m0\u001b[0m\u001b[0;34m]\u001b[0m \u001b[0;34m=\u001b[0m \u001b[0;34m'B'\u001b[0m\u001b[0;34m\u001b[0m\u001b[0m\n\u001b[0m\u001b[1;32m      2\u001b[0m \u001b[0;31m# planet.append doesn't work either\u001b[0m\u001b[0;34m\u001b[0m\u001b[0;34m\u001b[0m\u001b[0m\n",
            "\u001b[0;31mTypeError\u001b[0m: 'str' object does not support item assignment"
          ]
        }
      ]
    },
    {
      "metadata": {
        "id": "7rSlfldF1NKZ",
        "colab_type": "text"
      },
      "cell_type": "markdown",
      "source": [
        "## String methods\n",
        "\n",
        "Like `list`, the type `str` has lots of very useful methods. I'll show just a few examples here."
      ]
    },
    {
      "metadata": {
        "id": "dMzdsHJr1NKa",
        "colab_type": "code",
        "colab": {
          "base_uri": "https://localhost:8080/",
          "height": 34
        },
        "outputId": "0703f8ed-0d4b-461d-d10a-1a6c3cb1077c"
      },
      "cell_type": "code",
      "source": [
        "# ALL CAPS\n",
        "claim = \"Pluto is a planet!\"\n",
        "claim.upper()"
      ],
      "execution_count": 17,
      "outputs": [
        {
          "output_type": "execute_result",
          "data": {
            "text/plain": [
              "'PLUTO IS A PLANET!'"
            ]
          },
          "metadata": {
            "tags": []
          },
          "execution_count": 17
        }
      ]
    },
    {
      "metadata": {
        "id": "gCFka4XY1NKd",
        "colab_type": "code",
        "colab": {
          "base_uri": "https://localhost:8080/",
          "height": 34
        },
        "outputId": "75814854-3da8-4aa2-b9fd-edbe50b74633"
      },
      "cell_type": "code",
      "source": [
        "# all lowercase\n",
        "claim.lower()"
      ],
      "execution_count": 18,
      "outputs": [
        {
          "output_type": "execute_result",
          "data": {
            "text/plain": [
              "'pluto is a planet!'"
            ]
          },
          "metadata": {
            "tags": []
          },
          "execution_count": 18
        }
      ]
    },
    {
      "metadata": {
        "id": "kifkmWay1NKf",
        "colab_type": "code",
        "colab": {
          "base_uri": "https://localhost:8080/",
          "height": 34
        },
        "outputId": "9b841c80-ceea-4612-ab0d-deb1d7e7f166"
      },
      "cell_type": "code",
      "source": [
        "# Searching for the first index of a substring\n",
        "claim.index('plan')"
      ],
      "execution_count": 20,
      "outputs": [
        {
          "output_type": "execute_result",
          "data": {
            "text/plain": [
              "11"
            ]
          },
          "metadata": {
            "tags": []
          },
          "execution_count": 20
        }
      ]
    },
    {
      "metadata": {
        "id": "yMN-JgLC1NKi",
        "colab_type": "code",
        "colab": {
          "base_uri": "https://localhost:8080/",
          "height": 34
        },
        "outputId": "5ebd8a89-0480-4449-b9ef-bd840031a4c0"
      },
      "cell_type": "code",
      "source": [
        "claim.startswith(planet)"
      ],
      "execution_count": 22,
      "outputs": [
        {
          "output_type": "execute_result",
          "data": {
            "text/plain": [
              "True"
            ]
          },
          "metadata": {
            "tags": []
          },
          "execution_count": 22
        }
      ]
    },
    {
      "metadata": {
        "id": "cTftA3WX1NKl",
        "colab_type": "code",
        "colab": {
          "base_uri": "https://localhost:8080/",
          "height": 34
        },
        "outputId": "44cc99ab-c83d-4d9c-b7c2-1de3c0e666fd"
      },
      "cell_type": "code",
      "source": [
        "claim.endswith('dwarf planet')"
      ],
      "execution_count": 21,
      "outputs": [
        {
          "output_type": "execute_result",
          "data": {
            "text/plain": [
              "False"
            ]
          },
          "metadata": {
            "tags": []
          },
          "execution_count": 21
        }
      ]
    },
    {
      "metadata": {
        "id": "b5ECFD501NKm",
        "colab_type": "text"
      },
      "cell_type": "markdown",
      "source": [
        "### Going between strings and lists: `.split()` and `.join()`\n",
        "\n",
        "`str.split()` turns a string into a list of smaller strings, breaking on whitespace by default. This is super useful for taking you from one big string to a list of words."
      ]
    },
    {
      "metadata": {
        "id": "f_mCUfyh1NKm",
        "colab_type": "code",
        "colab": {
          "base_uri": "https://localhost:8080/",
          "height": 34
        },
        "outputId": "0c83472b-6307-4108-f353-bfffeeee552a"
      },
      "cell_type": "code",
      "source": [
        "words = claim.split()\n",
        "words"
      ],
      "execution_count": 23,
      "outputs": [
        {
          "output_type": "execute_result",
          "data": {
            "text/plain": [
              "['Pluto', 'is', 'a', 'planet!']"
            ]
          },
          "metadata": {
            "tags": []
          },
          "execution_count": 23
        }
      ]
    },
    {
      "metadata": {
        "id": "PLNlheje1NKp",
        "colab_type": "text"
      },
      "cell_type": "markdown",
      "source": [
        "Occasionally you'll want to split on something other than whitespace:"
      ]
    },
    {
      "metadata": {
        "id": "bdLyow2k1NKp",
        "colab_type": "code",
        "colab": {}
      },
      "cell_type": "code",
      "source": [
        "datestr = '1956-01-31'\n",
        "year, month, day = datestr.split('-')"
      ],
      "execution_count": 0,
      "outputs": []
    },
    {
      "metadata": {
        "id": "EKZzpBPQ1NKr",
        "colab_type": "text"
      },
      "cell_type": "markdown",
      "source": [
        "`str.join()` takes us in the other direction, sewing a list of strings up into one long string, using the string it was called on as a separator."
      ]
    },
    {
      "metadata": {
        "id": "_TQ0_DDW1NKs",
        "colab_type": "code",
        "colab": {
          "base_uri": "https://localhost:8080/",
          "height": 34
        },
        "outputId": "6cb04fee-e517-4acf-df4f-a34ceb58fded"
      },
      "cell_type": "code",
      "source": [
        "'/'.join([month, day, year])"
      ],
      "execution_count": 25,
      "outputs": [
        {
          "output_type": "execute_result",
          "data": {
            "text/plain": [
              "'01/31/1956'"
            ]
          },
          "metadata": {
            "tags": []
          },
          "execution_count": 25
        }
      ]
    },
    {
      "metadata": {
        "id": "dd4KLlfP1NKu",
        "colab_type": "code",
        "colab": {
          "base_uri": "https://localhost:8080/",
          "height": 34
        },
        "outputId": "2c98b85f-7137-4833-e43e-23deafa0d48a"
      },
      "cell_type": "code",
      "source": [
        "# Yes, we can put unicode characters right in our string literals :)\n",
        "' 👏 '.join([word.upper() for word in words])"
      ],
      "execution_count": 26,
      "outputs": [
        {
          "output_type": "execute_result",
          "data": {
            "text/plain": [
              "'PLUTO 👏 IS 👏 A 👏 PLANET!'"
            ]
          },
          "metadata": {
            "tags": []
          },
          "execution_count": 26
        }
      ]
    },
    {
      "metadata": {
        "id": "zhRuRaV21NKw",
        "colab_type": "text"
      },
      "cell_type": "markdown",
      "source": [
        "### Building strings with `.format()`\n",
        "\n",
        "Python lets us concatenate strings with the `+` operator."
      ]
    },
    {
      "metadata": {
        "id": "gVihCqpy1NKx",
        "colab_type": "code",
        "colab": {
          "base_uri": "https://localhost:8080/",
          "height": 34
        },
        "outputId": "64f74ea8-5416-475b-e782-e8d44e5ce269"
      },
      "cell_type": "code",
      "source": [
        "planet + ', we miss you.'"
      ],
      "execution_count": 27,
      "outputs": [
        {
          "output_type": "execute_result",
          "data": {
            "text/plain": [
              "'Pluto, we miss you.'"
            ]
          },
          "metadata": {
            "tags": []
          },
          "execution_count": 27
        }
      ]
    },
    {
      "metadata": {
        "id": "Qwr-JSND1NKz",
        "colab_type": "text"
      },
      "cell_type": "markdown",
      "source": [
        "If we want to throw in any non-string objects, we have to be careful to call `str()` on them first"
      ]
    },
    {
      "metadata": {
        "id": "vQfwld0b1NKz",
        "colab_type": "code",
        "colab": {
          "base_uri": "https://localhost:8080/",
          "height": 180
        },
        "outputId": "b9e6cd4c-94b1-4128-c3f2-fe025fff2a25"
      },
      "cell_type": "code",
      "source": [
        "position = 9\n",
        "planet + \", you'll always be the \" + position + \"th planet to me.\""
      ],
      "execution_count": 28,
      "outputs": [
        {
          "output_type": "error",
          "ename": "TypeError",
          "evalue": "ignored",
          "traceback": [
            "\u001b[0;31m---------------------------------------------------------------------------\u001b[0m",
            "\u001b[0;31mTypeError\u001b[0m                                 Traceback (most recent call last)",
            "\u001b[0;32m<ipython-input-28-73295f9638cc>\u001b[0m in \u001b[0;36m<module>\u001b[0;34m()\u001b[0m\n\u001b[1;32m      1\u001b[0m \u001b[0mposition\u001b[0m \u001b[0;34m=\u001b[0m \u001b[0;36m9\u001b[0m\u001b[0;34m\u001b[0m\u001b[0m\n\u001b[0;32m----> 2\u001b[0;31m \u001b[0mplanet\u001b[0m \u001b[0;34m+\u001b[0m \u001b[0;34m\", you'll always be the \"\u001b[0m \u001b[0;34m+\u001b[0m \u001b[0mposition\u001b[0m \u001b[0;34m+\u001b[0m \u001b[0;34m\"th planet to me.\"\u001b[0m\u001b[0;34m\u001b[0m\u001b[0m\n\u001b[0m",
            "\u001b[0;31mTypeError\u001b[0m: must be str, not int"
          ]
        }
      ]
    },
    {
      "metadata": {
        "id": "KN3dw4yU1NK1",
        "colab_type": "code",
        "colab": {
          "base_uri": "https://localhost:8080/",
          "height": 34
        },
        "outputId": "563620b7-6107-42fe-90ee-fdb3dbbf0cec"
      },
      "cell_type": "code",
      "source": [
        "planet + \", you'll always be the \" + str(position) + \"th planet to me.\""
      ],
      "execution_count": 29,
      "outputs": [
        {
          "output_type": "execute_result",
          "data": {
            "text/plain": [
              "\"Pluto, you'll always be the 9th planet to me.\""
            ]
          },
          "metadata": {
            "tags": []
          },
          "execution_count": 29
        }
      ]
    },
    {
      "metadata": {
        "id": "1dowZSYv1NK3",
        "colab_type": "text"
      },
      "cell_type": "markdown",
      "source": [
        "This is getting hard to read and annoying to type. `str.format()` to the rescue."
      ]
    },
    {
      "metadata": {
        "id": "8UvmrA6w1NK3",
        "colab_type": "code",
        "colab": {
          "base_uri": "https://localhost:8080/",
          "height": 34
        },
        "outputId": "ce246c71-37dd-4e11-c88b-ef79538776dc"
      },
      "cell_type": "code",
      "source": [
        "\"{}, you'll always be the {}th planet to me.\".format(planet, position)"
      ],
      "execution_count": 30,
      "outputs": [
        {
          "output_type": "execute_result",
          "data": {
            "text/plain": [
              "\"Pluto, you'll always be the 9th planet to me.\""
            ]
          },
          "metadata": {
            "tags": []
          },
          "execution_count": 30
        }
      ]
    },
    {
      "metadata": {
        "id": "hQZI4jkL1NK6",
        "colab_type": "text"
      },
      "cell_type": "markdown",
      "source": [
        "So much cleaner! We call `.format()` on a \"format string\", where the Python values we want to insert are represented with `{}` placeholders.\n",
        "\n",
        "Notice how we didn't even have to call `str()` to convert `position` from an int. `format()` takes care of that for us.\n",
        "\n",
        "If that was all that `format()` did, it would still be incredibly useful. But as it turns out, it can do a *lot* more. Here's just a taste:"
      ]
    },
    {
      "metadata": {
        "id": "YUVSOUEN1NK7",
        "colab_type": "code",
        "colab": {
          "base_uri": "https://localhost:8080/",
          "height": 34
        },
        "outputId": "116b82dc-1f4d-479c-97c2-4870b7961f66"
      },
      "cell_type": "code",
      "source": [
        "pluto_mass = 1.303 * 10**22\n",
        "earth_mass = 5.9722 * 10**24\n",
        "population = 52910390\n",
        "#         2 decimal points   3 decimal points, format as percent     separate with commas\n",
        "\"{} weighs about {:.2} kilograms ({:.3%} of Earth's mass). It is home to {:,} Plutonians.\".format(\n",
        "    planet, pluto_mass, pluto_mass / earth_mass, population,\n",
        ")"
      ],
      "execution_count": 31,
      "outputs": [
        {
          "output_type": "execute_result",
          "data": {
            "text/plain": [
              "\"Pluto weighs about 1.3e+22 kilograms (0.218% of Earth's mass). It is home to 52,910,390 Plutonians.\""
            ]
          },
          "metadata": {
            "tags": []
          },
          "execution_count": 31
        }
      ]
    },
    {
      "metadata": {
        "id": "xUNxcYIQ1NLB",
        "colab_type": "code",
        "colab": {
          "base_uri": "https://localhost:8080/",
          "height": 85
        },
        "outputId": "c6a77ab2-a3ce-4159-8340-77bce7ab509a"
      },
      "cell_type": "code",
      "source": [
        "# Referring to format() arguments by index, starting from 0\n",
        "s = \"\"\"Pluto's a {0}.\n",
        "No, it's a {1}.\n",
        "{0}!\n",
        "{1}!\"\"\".format('planet', 'dwarf planet')\n",
        "print(s)"
      ],
      "execution_count": 32,
      "outputs": [
        {
          "output_type": "stream",
          "text": [
            "Pluto's a planet.\n",
            "No, it's a dwarf planet.\n",
            "planet!\n",
            "dwarf planet!\n"
          ],
          "name": "stdout"
        }
      ]
    },
    {
      "metadata": {
        "id": "twSa2-8w1NLE",
        "colab_type": "text"
      },
      "cell_type": "markdown",
      "source": [
        "You could probably write a short book just on `str.format`, so I'll stop here, and point you to [pyformat.info](https://pyformat.info/) and [the official docs](https://docs.python.org/3/library/string.html#formatstrings) for further reading."
      ]
    },
    {
      "metadata": {
        "id": "GQ--j43G1NLF",
        "colab_type": "text"
      },
      "cell_type": "markdown",
      "source": [
        "# Dictionaries\n",
        "\n",
        "Dictionaries are a built-in Python data structure for mapping keys to values."
      ]
    },
    {
      "metadata": {
        "id": "sVhJP26C1NLG",
        "colab_type": "code",
        "colab": {}
      },
      "cell_type": "code",
      "source": [
        "numbers = {'one':1, 'two':2, 'three':3}"
      ],
      "execution_count": 0,
      "outputs": []
    },
    {
      "metadata": {
        "id": "-ydoPl661NLK",
        "colab_type": "text"
      },
      "cell_type": "markdown",
      "source": [
        "In this case `'one'`, `'two'`, and `'three'` are the **keys**, and 1, 2 and 3 are their corresponding values.\n",
        "\n",
        "Values are accessed via square bracket syntax similar to indexing into lists and strings."
      ]
    },
    {
      "metadata": {
        "id": "KsBwKJmx1NLL",
        "colab_type": "code",
        "colab": {
          "base_uri": "https://localhost:8080/",
          "height": 34
        },
        "outputId": "beea6e17-247e-4ab1-aa70-b556f6a3af2a"
      },
      "cell_type": "code",
      "source": [
        "numbers['one']"
      ],
      "execution_count": 34,
      "outputs": [
        {
          "output_type": "execute_result",
          "data": {
            "text/plain": [
              "1"
            ]
          },
          "metadata": {
            "tags": []
          },
          "execution_count": 34
        }
      ]
    },
    {
      "metadata": {
        "id": "qXtjbyKA1NLN",
        "colab_type": "text"
      },
      "cell_type": "markdown",
      "source": [
        "We can use the same syntax to add another key, value pair"
      ]
    },
    {
      "metadata": {
        "id": "_uAftGKz1NLO",
        "colab_type": "code",
        "colab": {
          "base_uri": "https://localhost:8080/",
          "height": 34
        },
        "outputId": "727cc18d-f696-46d5-b35f-5f855553c276"
      },
      "cell_type": "code",
      "source": [
        "numbers['eleven'] = 11\n",
        "numbers"
      ],
      "execution_count": 35,
      "outputs": [
        {
          "output_type": "execute_result",
          "data": {
            "text/plain": [
              "{'eleven': 11, 'one': 1, 'three': 3, 'two': 2}"
            ]
          },
          "metadata": {
            "tags": []
          },
          "execution_count": 35
        }
      ]
    },
    {
      "metadata": {
        "id": "DR5MIceG1NLP",
        "colab_type": "text"
      },
      "cell_type": "markdown",
      "source": [
        "Or to change the value associated with an existing key"
      ]
    },
    {
      "metadata": {
        "id": "og1OlM161NLR",
        "colab_type": "code",
        "colab": {
          "base_uri": "https://localhost:8080/",
          "height": 34
        },
        "outputId": "93142c57-37d3-4bd8-a2eb-f0fc1f4a4140"
      },
      "cell_type": "code",
      "source": [
        "numbers['one'] = 'Pluto'\n",
        "numbers"
      ],
      "execution_count": 36,
      "outputs": [
        {
          "output_type": "execute_result",
          "data": {
            "text/plain": [
              "{'eleven': 11, 'one': 'Pluto', 'three': 3, 'two': 2}"
            ]
          },
          "metadata": {
            "tags": []
          },
          "execution_count": 36
        }
      ]
    },
    {
      "metadata": {
        "id": "yPsqLbOU1NLW",
        "colab_type": "text"
      },
      "cell_type": "markdown",
      "source": [
        "Python has *dictionary comprehensions* with a syntax similar to the list comprehensions we saw in the previous tutorial."
      ]
    },
    {
      "metadata": {
        "id": "LysWUw-C1NLW",
        "colab_type": "code",
        "colab": {
          "base_uri": "https://localhost:8080/",
          "height": 153
        },
        "outputId": "41ffba60-df02-4ebe-eaf9-2d177b9757ca"
      },
      "cell_type": "code",
      "source": [
        "planets = ['Mercury', 'Venus', 'Earth', 'Mars', 'Jupiter', 'Saturn', 'Uranus', 'Neptune']\n",
        "planet_to_initial = {planet: planet[0] for planet in planets}\n",
        "planet_to_initial"
      ],
      "execution_count": 37,
      "outputs": [
        {
          "output_type": "execute_result",
          "data": {
            "text/plain": [
              "{'Earth': 'E',\n",
              " 'Jupiter': 'J',\n",
              " 'Mars': 'M',\n",
              " 'Mercury': 'M',\n",
              " 'Neptune': 'N',\n",
              " 'Saturn': 'S',\n",
              " 'Uranus': 'U',\n",
              " 'Venus': 'V'}"
            ]
          },
          "metadata": {
            "tags": []
          },
          "execution_count": 37
        }
      ]
    },
    {
      "metadata": {
        "id": "lwaoBXgA1NLY",
        "colab_type": "text"
      },
      "cell_type": "markdown",
      "source": [
        "The `in` operator tells us whether something is a key in the dictionary"
      ]
    },
    {
      "metadata": {
        "id": "lAXelxy11NLY",
        "colab_type": "code",
        "colab": {
          "base_uri": "https://localhost:8080/",
          "height": 34
        },
        "outputId": "4ed91642-f743-4e12-e88c-a9a7b4863f63"
      },
      "cell_type": "code",
      "source": [
        "'Saturn' in planet_to_initial"
      ],
      "execution_count": 38,
      "outputs": [
        {
          "output_type": "execute_result",
          "data": {
            "text/plain": [
              "True"
            ]
          },
          "metadata": {
            "tags": []
          },
          "execution_count": 38
        }
      ]
    },
    {
      "metadata": {
        "id": "IFyOKKXF1NLc",
        "colab_type": "code",
        "colab": {
          "base_uri": "https://localhost:8080/",
          "height": 34
        },
        "outputId": "6dd9bd9d-e18f-409d-8f01-62f1063baeec"
      },
      "cell_type": "code",
      "source": [
        "'Betelgeuse' in planet_to_initial"
      ],
      "execution_count": 39,
      "outputs": [
        {
          "output_type": "execute_result",
          "data": {
            "text/plain": [
              "False"
            ]
          },
          "metadata": {
            "tags": []
          },
          "execution_count": 39
        }
      ]
    },
    {
      "metadata": {
        "id": "leMnBlLE1NLe",
        "colab_type": "text"
      },
      "cell_type": "markdown",
      "source": [
        "A for loop over a dictionary will loop over its keys"
      ]
    },
    {
      "metadata": {
        "id": "_D1UW66q1NLf",
        "colab_type": "code",
        "colab": {
          "base_uri": "https://localhost:8080/",
          "height": 85
        },
        "outputId": "87d9fdd3-25b9-4af6-88c7-c9b1ad92fdf9"
      },
      "cell_type": "code",
      "source": [
        "for k in numbers:\n",
        "    print(\"{} = {}\".format(k, numbers[k]))"
      ],
      "execution_count": 40,
      "outputs": [
        {
          "output_type": "stream",
          "text": [
            "one = Pluto\n",
            "two = 2\n",
            "three = 3\n",
            "eleven = 11\n"
          ],
          "name": "stdout"
        }
      ]
    },
    {
      "metadata": {
        "id": "tq_ktjW-1NLh",
        "colab_type": "text"
      },
      "cell_type": "markdown",
      "source": [
        "We can access a collection of all the keys or all the values with `dict.keys()` and `dict.values()`, respectively."
      ]
    },
    {
      "metadata": {
        "id": "w_PM_lKq1NLj",
        "colab_type": "code",
        "colab": {
          "base_uri": "https://localhost:8080/",
          "height": 34
        },
        "outputId": "2eb2684d-8bd6-4b4e-d393-06e00200556d"
      },
      "cell_type": "code",
      "source": [
        "# Get all the initials, sort them alphabetically, and put them in a space-separated string.\n",
        "' '.join(sorted(planet_to_initial.values()))"
      ],
      "execution_count": 41,
      "outputs": [
        {
          "output_type": "execute_result",
          "data": {
            "text/plain": [
              "'E J M M N S U V'"
            ]
          },
          "metadata": {
            "tags": []
          },
          "execution_count": 41
        }
      ]
    },
    {
      "metadata": {
        "id": "J7BwtyTc1NLp",
        "colab_type": "text"
      },
      "cell_type": "markdown",
      "source": [
        "The very useful `dict.items()` method lets us iterate over the keys and values of a dictionary simultaneously. (In Python jargon, an **item** refers to a key, value pair)"
      ]
    },
    {
      "metadata": {
        "id": "RYxiMI8i1NLv",
        "colab_type": "code",
        "colab": {
          "base_uri": "https://localhost:8080/",
          "height": 153
        },
        "outputId": "c8b3ef96-faaa-410d-8376-2ac474cf393c"
      },
      "cell_type": "code",
      "source": [
        "for planet, initial in planet_to_initial.items():\n",
        "    print(\"{} begins with \\\"{}\\\"\".format(planet.rjust(10), initial))"
      ],
      "execution_count": 42,
      "outputs": [
        {
          "output_type": "stream",
          "text": [
            "   Mercury begins with \"M\"\n",
            "     Venus begins with \"V\"\n",
            "     Earth begins with \"E\"\n",
            "      Mars begins with \"M\"\n",
            "   Jupiter begins with \"J\"\n",
            "    Saturn begins with \"S\"\n",
            "    Uranus begins with \"U\"\n",
            "   Neptune begins with \"N\"\n"
          ],
          "name": "stdout"
        }
      ]
    },
    {
      "metadata": {
        "id": "vfIY5dxx1NLy",
        "colab_type": "text"
      },
      "cell_type": "markdown",
      "source": [
        "To read a full inventory of dictionaries' methods, click the \"output\" button below to read the full help page, or check out the [official online documentation](https://docs.python.org/3/library/stdtypes.html#dict)."
      ]
    },
    {
      "metadata": {
        "id": "C8Lvu07a1NLy",
        "colab_type": "code",
        "colab": {
          "base_uri": "https://localhost:8080/",
          "height": 1870
        },
        "outputId": "d06a3c7f-1c54-4980-f914-74822b1b0d11"
      },
      "cell_type": "code",
      "source": [
        "help(dict)"
      ],
      "execution_count": 43,
      "outputs": [
        {
          "output_type": "stream",
          "text": [
            "Help on class dict in module builtins:\n",
            "\n",
            "class dict(object)\n",
            " |  dict() -> new empty dictionary\n",
            " |  dict(mapping) -> new dictionary initialized from a mapping object's\n",
            " |      (key, value) pairs\n",
            " |  dict(iterable) -> new dictionary initialized as if via:\n",
            " |      d = {}\n",
            " |      for k, v in iterable:\n",
            " |          d[k] = v\n",
            " |  dict(**kwargs) -> new dictionary initialized with the name=value pairs\n",
            " |      in the keyword argument list.  For example:  dict(one=1, two=2)\n",
            " |  \n",
            " |  Methods defined here:\n",
            " |  \n",
            " |  __contains__(self, key, /)\n",
            " |      True if D has a key k, else False.\n",
            " |  \n",
            " |  __delitem__(self, key, /)\n",
            " |      Delete self[key].\n",
            " |  \n",
            " |  __eq__(self, value, /)\n",
            " |      Return self==value.\n",
            " |  \n",
            " |  __ge__(self, value, /)\n",
            " |      Return self>=value.\n",
            " |  \n",
            " |  __getattribute__(self, name, /)\n",
            " |      Return getattr(self, name).\n",
            " |  \n",
            " |  __getitem__(...)\n",
            " |      x.__getitem__(y) <==> x[y]\n",
            " |  \n",
            " |  __gt__(self, value, /)\n",
            " |      Return self>value.\n",
            " |  \n",
            " |  __init__(self, /, *args, **kwargs)\n",
            " |      Initialize self.  See help(type(self)) for accurate signature.\n",
            " |  \n",
            " |  __iter__(self, /)\n",
            " |      Implement iter(self).\n",
            " |  \n",
            " |  __le__(self, value, /)\n",
            " |      Return self<=value.\n",
            " |  \n",
            " |  __len__(self, /)\n",
            " |      Return len(self).\n",
            " |  \n",
            " |  __lt__(self, value, /)\n",
            " |      Return self<value.\n",
            " |  \n",
            " |  __ne__(self, value, /)\n",
            " |      Return self!=value.\n",
            " |  \n",
            " |  __new__(*args, **kwargs) from builtins.type\n",
            " |      Create and return a new object.  See help(type) for accurate signature.\n",
            " |  \n",
            " |  __repr__(self, /)\n",
            " |      Return repr(self).\n",
            " |  \n",
            " |  __setitem__(self, key, value, /)\n",
            " |      Set self[key] to value.\n",
            " |  \n",
            " |  __sizeof__(...)\n",
            " |      D.__sizeof__() -> size of D in memory, in bytes\n",
            " |  \n",
            " |  clear(...)\n",
            " |      D.clear() -> None.  Remove all items from D.\n",
            " |  \n",
            " |  copy(...)\n",
            " |      D.copy() -> a shallow copy of D\n",
            " |  \n",
            " |  fromkeys(iterable, value=None, /) from builtins.type\n",
            " |      Returns a new dict with keys from iterable and values equal to value.\n",
            " |  \n",
            " |  get(...)\n",
            " |      D.get(k[,d]) -> D[k] if k in D, else d.  d defaults to None.\n",
            " |  \n",
            " |  items(...)\n",
            " |      D.items() -> a set-like object providing a view on D's items\n",
            " |  \n",
            " |  keys(...)\n",
            " |      D.keys() -> a set-like object providing a view on D's keys\n",
            " |  \n",
            " |  pop(...)\n",
            " |      D.pop(k[,d]) -> v, remove specified key and return the corresponding value.\n",
            " |      If key is not found, d is returned if given, otherwise KeyError is raised\n",
            " |  \n",
            " |  popitem(...)\n",
            " |      D.popitem() -> (k, v), remove and return some (key, value) pair as a\n",
            " |      2-tuple; but raise KeyError if D is empty.\n",
            " |  \n",
            " |  setdefault(...)\n",
            " |      D.setdefault(k[,d]) -> D.get(k,d), also set D[k]=d if k not in D\n",
            " |  \n",
            " |  update(...)\n",
            " |      D.update([E, ]**F) -> None.  Update D from dict/iterable E and F.\n",
            " |      If E is present and has a .keys() method, then does:  for k in E: D[k] = E[k]\n",
            " |      If E is present and lacks a .keys() method, then does:  for k, v in E: D[k] = v\n",
            " |      In either case, this is followed by: for k in F:  D[k] = F[k]\n",
            " |  \n",
            " |  values(...)\n",
            " |      D.values() -> an object providing a view on D's values\n",
            " |  \n",
            " |  ----------------------------------------------------------------------\n",
            " |  Data and other attributes defined here:\n",
            " |  \n",
            " |  __hash__ = None\n",
            "\n"
          ],
          "name": "stdout"
        }
      ]
    },
    {
      "metadata": {
        "id": "K67cyIfU2Cmw",
        "colab_type": "code",
        "colab": {}
      },
      "cell_type": "code",
      "source": [
        ""
      ],
      "execution_count": 0,
      "outputs": []
    }
  ]
}
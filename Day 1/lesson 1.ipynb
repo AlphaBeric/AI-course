{
  "nbformat": 4,
  "nbformat_minor": 0,
  "metadata": {
    "colab": {
      "name": "lesson 1.ipynb",
      "version": "0.3.2",
      "provenance": [],
      "include_colab_link": true
    },
    "kernelspec": {
      "display_name": "Python 3",
      "language": "python",
      "name": "python3"
    }
  },
  "cells": [
    {
      "cell_type": "markdown",
      "metadata": {
        "id": "view-in-github",
        "colab_type": "text"
      },
      "source": [
        "[View in Colaboratory](https://colab.research.google.com/github/ShabatA/AI-course/blob/master/Day%201/lesson%201.ipynb)"
      ]
    },
    {
      "metadata": {
        "id": "LipgAvGJ974_",
        "colab_type": "text"
      },
      "cell_type": "markdown",
      "source": [
        "Welcome to Kaggle Learn's Python course. This course will cover the fundamental Python skills that you’ll need before jumping in to using Python for data science. These lessons are aimed at those with some previous coding experience who are looking to add Python to their repertoire or level up their Python skills. (If you're a first-time coder, you may find this course a bit too fast-paced. You may want to check out [these \"Python for Non-Programmers\" learning resources](https://wiki.python.org/moin/BeginnersGuide/NonProgrammers).)\n",
        "\n",
        "This first lesson will cover a brief overview of Python syntax, variable assignment, and arithmetic operators. If you have previous Python experience, you may want to [skip straight to the exercise](https://www.kaggle.com/kernels/fork/1275163).\n",
        "\n",
        "> These lessons borrow and adapt some content from [A Whirlwind Tour of Python](https://www.kaggle.com/sohier/whirlwind-tour-of-python-index). Thanks to the author, Jake VanderPlas, for releasing it under a permissive license. If you're interested in a more thorough, theoretical grounding in Python, I encourage you to check out WTOP.\n"
      ]
    },
    {
      "metadata": {
        "id": "q0qybn-i975C",
        "colab_type": "text"
      },
      "cell_type": "markdown",
      "source": [
        "# Hello, Python!\n",
        "\n",
        "Python was named for the British comedy troupe [Monty Python](https://en.wikipedia.org/wiki/Monty_Python), so why not make our first Python program an homage to their famous [Spam](https://en.wikipedia.org/wiki/Spam_(Monty_Python%29) skit?\n",
        "\n",
        "<!-- todo: maybe a little side note on spam metasyntactic variables in Python -->\n",
        "\n",
        "Just for fun, try reading over the code below and predicting what it's going to do when run. (If you have no idea, that's fine!)\n",
        "\n",
        "Then click the \"output\" button to see the results of our program."
      ]
    },
    {
      "metadata": {
        "id": "QN29bgYG975D",
        "colab_type": "code",
        "colab": {
          "base_uri": "https://localhost:8080/",
          "height": 68
        },
        "outputId": "438366ee-882d-4f59-e360-2f506fff4ea3"
      },
      "cell_type": "code",
      "source": [
        "spam_amount = 0\n",
        "print(spam_amount)\n",
        "\n",
        "# Ordering Spam, egg, Spam, Spam, bacon and Spam (4 more servings of Spam)\n",
        "spam_amount = spam_amount + 4\n",
        "\n",
        "if spam_amount > 0:\n",
        "    print(\"But I don't want ANY spam!\")\n",
        "\n",
        "viking_song = \"Spam \" * spam_amount\n",
        "print(viking_song)"
      ],
      "execution_count": 2,
      "outputs": [
        {
          "output_type": "stream",
          "text": [
            "0\n",
            "But I don't want ANY spam!\n",
            "Spam Spam Spam Spam \n"
          ],
          "name": "stdout"
        }
      ]
    },
    {
      "metadata": {
        "id": "yIsH2XE6975K",
        "colab_type": "text"
      },
      "cell_type": "markdown",
      "source": [
        "There's a lot to unpack here! This silly program demonstrates many important aspects of what Python code looks like (its *syntax*) and how it works (its *semantics*). Let's run down the code from top to bottom."
      ]
    },
    {
      "metadata": {
        "id": "09rXVUOd975K",
        "colab_type": "code",
        "colab": {}
      },
      "cell_type": "code",
      "source": [
        "spam_amount = 0\n",
        "x = 5"
      ],
      "execution_count": 0,
      "outputs": []
    },
    {
      "metadata": {
        "id": "c9zjAZh3975N",
        "colab_type": "text"
      },
      "cell_type": "markdown",
      "source": [
        "**Variable assignment!** Here we create a variable called `spam_amount` and assign it the value of 0 using `=`, Python's assignment operator.\n",
        "\n",
        "> **Aside**: If you've programmed in certain other languages (like Java or C++), you might be noticing some things Python *doesn't* require us to do here:  \n",
        "- we don't need to \"declare\" `spam_amount` before assigning to it\n",
        "- we don't need to tell Python what type of value `spam_amount` is going to refer to. In fact, we can even go on to reassign `spam_amount` to refer to a different sort of thing like a string or a boolean."
      ]
    },
    {
      "metadata": {
        "id": "EDzX-IiN975O",
        "colab_type": "code",
        "colab": {}
      },
      "cell_type": "code",
      "source": [
        "print(spam_amount)"
      ],
      "execution_count": 0,
      "outputs": []
    },
    {
      "metadata": {
        "id": "aPx0BbFN975R",
        "colab_type": "text"
      },
      "cell_type": "markdown",
      "source": [
        "A **function call**. `print` is an extremely useful builtin Python function that displays the value passed to it on the screen. We call functions by putting parentheses after their name, with the inputs to the function (or *arguments*) in between."
      ]
    },
    {
      "metadata": {
        "id": "HLMIu2Bh975S",
        "colab_type": "code",
        "colab": {}
      },
      "cell_type": "code",
      "source": [
        "# Ordering Spam, egg, Spam, Spam, bacon and Spam (4 more servings of Spam)\n",
        "spam_amount = spam_amount + 4"
      ],
      "execution_count": 0,
      "outputs": []
    },
    {
      "metadata": {
        "id": "fctSXaeD975V",
        "colab_type": "text"
      },
      "cell_type": "markdown",
      "source": [
        "The first line above is a **comment**. In Python, comments begin with the `#` symbol.\n",
        "\n",
        "Next we see an example of reassignment. Reassigning the value of an existing variable looks just the same as creating a variable - it still uses the `=` assignment operator.\n",
        "\n",
        "In this case, the value we're assigning to `spam_amount` involves a little simple arithmetic on its previous value. When it encounters this line, Python evaluates the expression on the right-hand-side of the `=` (0 + 4 = 4), and then assigns that value to the variable on the left-hand-side."
      ]
    },
    {
      "metadata": {
        "id": "rt0cJO-P975W",
        "colab_type": "code",
        "colab": {}
      },
      "cell_type": "code",
      "source": [
        "if spam_amount > 0:\n",
        "    print(\"But I don't want ANY spam!\")"
      ],
      "execution_count": 0,
      "outputs": []
    },
    {
      "metadata": {
        "id": "pplr6Nib975Z",
        "colab_type": "text"
      },
      "cell_type": "markdown",
      "source": [
        "We won't talk much about conditionals until later, but, even if you've never coded before, you can probably guess what this does. Python is prized for its readability and the simplicity of its syntax (with some going as far as to call it \"executable pseudocode\"). \n",
        "\n",
        "Note how we indicated which code belongs to the `if`. `\"But I don't want ANY spam!\"` is only supposed to be printed if `spam_amount` is positive. But the later code (like `print(viking_song)`) should be executed no matter what. How do we (and Python) know that?\n",
        "\n",
        "The colon (`:`) at the end of the `if` line indicates that a new \"code block\" is coming up. Subsequent lines which are **indented** (beginning with an extra 4 spaces) are part of that code block. You may be familiar with other languages which use `{`curly braces`}` to mark the beginning and end of code blocks. Python's use of meaningful whitespace often is surprising to programmers who are accustomed to other languages, but in practice it can lead to more consistent and readable code than languages that do not enforce indentation of code blocks. \n",
        "\n",
        "The later lines dealing with `viking_song` are not indented with an extra 4 spaces, so they're not a part of the `if`'s code block. We'll see more examples of indented code blocks later when we start defining functions and using loops.\n",
        "\n",
        "This code snippet is also our first sighting of a **string** in Python:\n",
        "\n",
        "```python\n",
        "\"But I don't want ANY spam!\"\n",
        "```\n",
        "\n",
        "Strings can be marked either by double or single quotation marks. (But because this particular string *contains* a single-quote character, we might confuse Python by trying to surround it with single-quotes, unless we're careful.)"
      ]
    },
    {
      "metadata": {
        "id": "uNjpApyq975Z",
        "colab_type": "code",
        "colab": {}
      },
      "cell_type": "code",
      "source": [
        "viking_song = \"Spam \" * spam_amount\n",
        "print(viking_song)"
      ],
      "execution_count": 0,
      "outputs": []
    },
    {
      "metadata": {
        "id": "dLmmlFsk975d",
        "colab_type": "text"
      },
      "cell_type": "markdown",
      "source": [
        "The `*` operator can be used to multiply two numbers (`3 * 3` evaluates to 9), but amusingly enough, we can also multiply a string by a number, to get a version that's been repeated that many times. Python offers a number of cheeky little time-saving tricks like this where operators like `*` and `+` have a different meaning depending on what kind of thing they're applied to. (The technical term for this is [operator overloading](https://en.wikipedia.org/wiki/Operator_overloading))"
      ]
    },
    {
      "metadata": {
        "id": "ObuPjymV975f",
        "colab_type": "text"
      },
      "cell_type": "markdown",
      "source": [
        "## Numbers and arithmetic in Python\n",
        "\n",
        "We've already seen an example of a variable containing a number above:"
      ]
    },
    {
      "metadata": {
        "id": "GztAgkCk975h",
        "colab_type": "code",
        "colab": {}
      },
      "cell_type": "code",
      "source": [
        "spam_amount = 0"
      ],
      "execution_count": 0,
      "outputs": []
    },
    {
      "metadata": {
        "id": "ueJ1rO4_975l",
        "colab_type": "text"
      },
      "cell_type": "markdown",
      "source": [
        "\"Number\" is a fine informal name for the kind of thing, but if we wanted to be more technical, we could ask Python how it would describe the type of thing that `spam_amount` is:"
      ]
    },
    {
      "metadata": {
        "id": "SsVHaRKj975l",
        "colab_type": "code",
        "colab": {}
      },
      "cell_type": "code",
      "source": [
        "type(spam_amount)"
      ],
      "execution_count": 0,
      "outputs": []
    },
    {
      "metadata": {
        "id": "b_hkiXHC975n",
        "colab_type": "text"
      },
      "cell_type": "markdown",
      "source": [
        "It's an `int` - short for integer. There's another sort of number we commonly encounter in Python:"
      ]
    },
    {
      "metadata": {
        "id": "qf2FkB5v975o",
        "colab_type": "code",
        "colab": {}
      },
      "cell_type": "code",
      "source": [
        "type(19.95)"
      ],
      "execution_count": 0,
      "outputs": []
    },
    {
      "metadata": {
        "id": "e5HJXMQ2975r",
        "colab_type": "text"
      },
      "cell_type": "markdown",
      "source": [
        "A `float` is a number with a decimal place - very useful for representing things like weights or proportions.\n",
        "\n",
        "`type()` is the second built-in function we've seen (after `print()`), and it's another good one to remember. It's very useful to be able to ask Python \"what kind of thing is this?\". "
      ]
    },
    {
      "metadata": {
        "id": "Hw2TMht3975r",
        "colab_type": "text"
      },
      "cell_type": "markdown",
      "source": [
        "A natural thing to want to do with numbers is perform arithmetic. We've seen the `+` operator for addition, and the `*` operator for multiplication (of a sort). Python also has us covered for the rest of the basic buttons on your calculator:\n",
        "\n",
        "| Operator     | Name           | Description                                            |\n",
        "|--------------|----------------|--------------------------------------------------------|\n",
        "| ``a + b``    | Addition       | Sum of ``a`` and ``b``                                 |\n",
        "| ``a - b``    | Subtraction    | Difference of ``a`` and ``b``                          |\n",
        "| ``a * b``    | Multiplication | Product of ``a`` and ``b``                             |\n",
        "| ``a / b``    | True division  | Quotient of ``a`` and ``b``                            |\n",
        "| ``a // b``   | Floor division | Quotient of ``a`` and ``b``, removing fractional parts |\n",
        "| ``a % b``    | Modulus        | Integer remainder after division of ``a`` by ``b``     |\n",
        "| ``a ** b``   | Exponentiation | ``a`` raised to the power of ``b``                     |\n",
        "| ``-a``       | Negation       | The negative of ``a``                                  |\n",
        "\n",
        "<span style=\"display:none\">hack</span>\n",
        "\n",
        "One interesting observation here is that, whereas your calculator probably just has one button for division, Python can do two kinds. \"True division\" is basically what your calculator does:"
      ]
    },
    {
      "metadata": {
        "id": "AHJO-w2M975s",
        "colab_type": "code",
        "colab": {}
      },
      "cell_type": "code",
      "source": [
        "print(5 / 2)\n",
        "print(6 / 2)"
      ],
      "execution_count": 0,
      "outputs": []
    },
    {
      "metadata": {
        "id": "24SRpbaw975u",
        "colab_type": "text"
      },
      "cell_type": "markdown",
      "source": [
        "It always gives us a `float`. \n",
        "\n",
        "The `//` operator gives us a result that's rounded down to the next integer."
      ]
    },
    {
      "metadata": {
        "id": "BsSJduax975u",
        "colab_type": "code",
        "colab": {}
      },
      "cell_type": "code",
      "source": [
        "print(5 // 2)\n",
        "print(6 // 2)"
      ],
      "execution_count": 0,
      "outputs": []
    },
    {
      "metadata": {
        "id": "AfYPnBUW975x",
        "colab_type": "text"
      },
      "cell_type": "markdown",
      "source": [
        "Can you think of where this would be useful? You may see an example soon in the coding problems."
      ]
    },
    {
      "metadata": {
        "id": "0jr5D36b975x",
        "colab_type": "text"
      },
      "cell_type": "markdown",
      "source": [
        "### Order of operations\n",
        "\n",
        "The arithmetic we learned in primary school has conventions about the order in which operations are evaluated. Some remember these by a mnemonic such as **PEMDAS** - **P**arentheses, **E**xponents, **M**ultiplication/**D**ivision, **A**ddition/**S**ubtraction.\n",
        "\n",
        "Python follows similar rules about which calculations to perform first. They're mostly pretty intuitive."
      ]
    },
    {
      "metadata": {
        "id": "YYnvujVq975y",
        "colab_type": "code",
        "colab": {}
      },
      "cell_type": "code",
      "source": [
        "8 - 3 + 2"
      ],
      "execution_count": 0,
      "outputs": []
    },
    {
      "metadata": {
        "id": "1bCsw6RU975z",
        "colab_type": "code",
        "colab": {}
      },
      "cell_type": "code",
      "source": [
        "-3 + 4 * 2"
      ],
      "execution_count": 0,
      "outputs": []
    },
    {
      "metadata": {
        "id": "nm8SJxz19753",
        "colab_type": "text"
      },
      "cell_type": "markdown",
      "source": [
        "Sometimes the default order of operations isn't what we want:"
      ]
    },
    {
      "metadata": {
        "id": "fk1TY4Eh9755",
        "colab_type": "code",
        "colab": {}
      },
      "cell_type": "code",
      "source": [
        "hat_height_cm = 25\n",
        "my_height_cm = 190\n",
        "# How tall am I, in meters, when wearing my hat?\n",
        "total_height_meters = hat_height_cm + my_height_cm / 100\n",
        "print(\"Height in meters =\", total_height_meters, \"?\")"
      ],
      "execution_count": 0,
      "outputs": []
    },
    {
      "metadata": {
        "id": "6VSSArCT9758",
        "colab_type": "text"
      },
      "cell_type": "markdown",
      "source": [
        "Parentheses are your trump card. You can add them to force Python to evaluate sub-expressions in a different order (or just to make your code easier to read)."
      ]
    },
    {
      "metadata": {
        "id": "iRrQl63J9758",
        "colab_type": "code",
        "colab": {}
      },
      "cell_type": "code",
      "source": [
        "total_height_meters = (hat_height_cm + my_height_cm) / 100\n",
        "print(\"Height in meters =\", total_height_meters)"
      ],
      "execution_count": 0,
      "outputs": []
    },
    {
      "metadata": {
        "id": "Xx4PBlxr975_",
        "colab_type": "text"
      },
      "cell_type": "markdown",
      "source": [
        "### Builtin functions for working with numbers\n",
        "\n",
        "`min` and `max` return the minimum and maximum of their arguments, respectively..."
      ]
    },
    {
      "metadata": {
        "id": "3ZKmOIUR976A",
        "colab_type": "code",
        "colab": {}
      },
      "cell_type": "code",
      "source": [
        "print(min(1, 2, 3))\n",
        "print(max(1, 2, 3))"
      ],
      "execution_count": 0,
      "outputs": []
    },
    {
      "metadata": {
        "id": "zY70DWXb976D",
        "colab_type": "text"
      },
      "cell_type": "markdown",
      "source": [
        "`abs` returns the absolute value of it argument:"
      ]
    },
    {
      "metadata": {
        "id": "FjTYPMBA976E",
        "colab_type": "code",
        "colab": {}
      },
      "cell_type": "code",
      "source": [
        "print(abs(32))\n",
        "print(abs(-32))"
      ],
      "execution_count": 0,
      "outputs": []
    },
    {
      "metadata": {
        "id": "EIz9LuBZ976G",
        "colab_type": "text"
      },
      "cell_type": "markdown",
      "source": [
        "In addition to being the names of Python's two main numerical types, `int` and `float` can also be called as functions which convert their arguments to the corresponding type:"
      ]
    },
    {
      "metadata": {
        "id": "De0syefs976H",
        "colab_type": "code",
        "colab": {}
      },
      "cell_type": "code",
      "source": [
        "print(float(10))\n",
        "print(int(3.33))\n",
        "# They can even be called on strings!\n",
        "print(int('807') + 1)"
      ],
      "execution_count": 0,
      "outputs": []
    },
    {
      "metadata": {
        "id": "CfBaUmeG976K",
        "colab_type": "text"
      },
      "cell_type": "markdown",
      "source": [
        "# Your turn!\n",
        "\n",
        "Head over to [the Exercises notebook](https://www.kaggle.com/kernels/fork/1275163) to get some hands-on practice working with syntax, variable assignment, and numbers."
      ]
    }
  ]
}
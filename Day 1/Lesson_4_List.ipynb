{
  "nbformat": 4,
  "nbformat_minor": 0,
  "metadata": {
    "colab": {
      "name": "Lesson 4_List.ipynb",
      "version": "0.3.2",
      "provenance": [],
      "include_colab_link": true
    },
    "kernelspec": {
      "display_name": "Python 3",
      "language": "python",
      "name": "python3"
    }
  },
  "cells": [
    {
      "cell_type": "markdown",
      "metadata": {
        "id": "view-in-github",
        "colab_type": "text"
      },
      "source": [
        "[View in Colaboratory](https://colab.research.google.com/github/ShabatA/AI-course/blob/master/Day%201/Lesson_4_List.ipynb)"
      ]
    },
    {
      "metadata": {
        "id": "qB9rO-L9pTR8",
        "colab_type": "text"
      },
      "cell_type": "markdown",
      "source": [
        "# Lists\n",
        "\n",
        "Lists in Python represent ordered sequences of values. They can be defined with comma-separated values between square brackets. For example, here is a list of the first few prime numbers:"
      ]
    },
    {
      "metadata": {
        "id": "rI71LL3zpTR8",
        "colab_type": "code",
        "colab": {}
      },
      "cell_type": "code",
      "source": [
        "primes = [2, 3, 5, 7]"
      ],
      "execution_count": 0,
      "outputs": []
    },
    {
      "metadata": {
        "id": "Hu1bdt6ypTR_",
        "colab_type": "text"
      },
      "cell_type": "markdown",
      "source": [
        "We can put other types of things in lists:"
      ]
    },
    {
      "metadata": {
        "id": "R3xCRxHcpTSA",
        "colab_type": "code",
        "colab": {}
      },
      "cell_type": "code",
      "source": [
        "planets = ['Mercury', 'Venus', 'Earth', 'Mars', 'Jupiter', 'Saturn', 'Uranus', 'Neptune']"
      ],
      "execution_count": 0,
      "outputs": []
    },
    {
      "metadata": {
        "id": "T-q_4cmdpTSD",
        "colab_type": "text"
      },
      "cell_type": "markdown",
      "source": [
        "Including other lists:"
      ]
    },
    {
      "metadata": {
        "id": "QMYkhUnJpTSD",
        "colab_type": "code",
        "colab": {}
      },
      "cell_type": "code",
      "source": [
        "hands = [\n",
        "    ['J', 'Q', 'K'],\n",
        "    ['2', '2', '2'],\n",
        "    ['6', 'A', 'K'], # (Comma after the last element is optional)\n",
        "]\n",
        "# (I could also have written this on one line, but it can get hard to read)\n",
        "hands = [['J', 'Q', 'K'], ['2', '2', '2'], ['6', 'A', 'K']]"
      ],
      "execution_count": 0,
      "outputs": []
    },
    {
      "metadata": {
        "id": "LHlkCL8upTSF",
        "colab_type": "text"
      },
      "cell_type": "markdown",
      "source": [
        "A list can contain a mix of different types:"
      ]
    },
    {
      "metadata": {
        "id": "wfrItcJnpTSG",
        "colab_type": "code",
        "colab": {}
      },
      "cell_type": "code",
      "source": [
        "my_favourite_things = [32, 'raindrops on roses', help]\n",
        "# (Yes, Python's help function is *definitely* one of my favourite things)"
      ],
      "execution_count": 0,
      "outputs": []
    },
    {
      "metadata": {
        "id": "UegH4c6PpTSI",
        "colab_type": "text"
      },
      "cell_type": "markdown",
      "source": [
        "## Indexing\n",
        "\n",
        "We can access individual list elements using Python's square bracket indexing syntax.\n",
        "\n",
        "Which planet is closest to the sun? Python uses *zero-based* indexing, so the first element has index 0."
      ]
    },
    {
      "metadata": {
        "id": "vP_z9TsnpTSJ",
        "colab_type": "code",
        "colab": {
          "base_uri": "https://localhost:8080/",
          "height": 34
        },
        "outputId": "d174f967-2040-4c20-c386-810b2d4f51b6"
      },
      "cell_type": "code",
      "source": [
        "planets[0]"
      ],
      "execution_count": 5,
      "outputs": [
        {
          "output_type": "execute_result",
          "data": {
            "text/plain": [
              "'Mercury'"
            ]
          },
          "metadata": {
            "tags": []
          },
          "execution_count": 5
        }
      ]
    },
    {
      "metadata": {
        "id": "5UBv9di_pTSL",
        "colab_type": "text"
      },
      "cell_type": "markdown",
      "source": [
        "What's the next closest planet?"
      ]
    },
    {
      "metadata": {
        "id": "EtkMbpTmpTSL",
        "colab_type": "code",
        "colab": {
          "base_uri": "https://localhost:8080/",
          "height": 34
        },
        "outputId": "2d2404c1-297a-4051-8fca-2b27dd413766"
      },
      "cell_type": "code",
      "source": [
        "planets[1]"
      ],
      "execution_count": 6,
      "outputs": [
        {
          "output_type": "execute_result",
          "data": {
            "text/plain": [
              "'Venus'"
            ]
          },
          "metadata": {
            "tags": []
          },
          "execution_count": 6
        }
      ]
    },
    {
      "metadata": {
        "id": "HCV8KCJopTSO",
        "colab_type": "text"
      },
      "cell_type": "markdown",
      "source": [
        "Which planet is *furthest* from the sun?\n",
        "\n",
        "Elements at the end of the list can be accessed with negative numbers, starting from -1:"
      ]
    },
    {
      "metadata": {
        "id": "KqNzsK3HpTSP",
        "colab_type": "code",
        "colab": {
          "base_uri": "https://localhost:8080/",
          "height": 34
        },
        "outputId": "3ba94935-1306-4ead-ecad-8e59a264a80f"
      },
      "cell_type": "code",
      "source": [
        "planets[-1]"
      ],
      "execution_count": 7,
      "outputs": [
        {
          "output_type": "execute_result",
          "data": {
            "text/plain": [
              "'Neptune'"
            ]
          },
          "metadata": {
            "tags": []
          },
          "execution_count": 7
        }
      ]
    },
    {
      "metadata": {
        "id": "5_ufFUoypTSS",
        "colab_type": "code",
        "colab": {
          "base_uri": "https://localhost:8080/",
          "height": 34
        },
        "outputId": "e0426439-eb83-4456-a2e2-69094b8ce2a3"
      },
      "cell_type": "code",
      "source": [
        "planets[-2]"
      ],
      "execution_count": 8,
      "outputs": [
        {
          "output_type": "execute_result",
          "data": {
            "text/plain": [
              "'Uranus'"
            ]
          },
          "metadata": {
            "tags": []
          },
          "execution_count": 8
        }
      ]
    },
    {
      "metadata": {
        "id": "aosSgiG3pTSV",
        "colab_type": "text"
      },
      "cell_type": "markdown",
      "source": [
        "## Slicing\n",
        "\n",
        "What are the first three planets? We can answer this question using *slicing*:"
      ]
    },
    {
      "metadata": {
        "id": "PMrfi2uapTSV",
        "colab_type": "code",
        "colab": {
          "base_uri": "https://localhost:8080/",
          "height": 34
        },
        "outputId": "74216df7-26f5-4e0b-e10c-27dd0f278b73"
      },
      "cell_type": "code",
      "source": [
        "planets[0:3]"
      ],
      "execution_count": 9,
      "outputs": [
        {
          "output_type": "execute_result",
          "data": {
            "text/plain": [
              "['Mercury', 'Venus', 'Earth']"
            ]
          },
          "metadata": {
            "tags": []
          },
          "execution_count": 9
        }
      ]
    },
    {
      "metadata": {
        "id": "UxQV2rW6pTSY",
        "colab_type": "text"
      },
      "cell_type": "markdown",
      "source": [
        "`planets[0:3]` is our way of asking Python for the elements of `planets` starting from index 0 and continuing up to *but not including* index 3.\n",
        "\n",
        "The starting and ending indices are both optional. If I leave out the start index, it's assumed to be 0. So I could rewrite the expression above as:"
      ]
    },
    {
      "metadata": {
        "id": "YGFzswUopTSZ",
        "colab_type": "code",
        "colab": {
          "base_uri": "https://localhost:8080/",
          "height": 34
        },
        "outputId": "6b84a6f9-fe02-4d76-b5c7-5e96b9941c49"
      },
      "cell_type": "code",
      "source": [
        "planets[:3]"
      ],
      "execution_count": 10,
      "outputs": [
        {
          "output_type": "execute_result",
          "data": {
            "text/plain": [
              "['Mercury', 'Venus', 'Earth']"
            ]
          },
          "metadata": {
            "tags": []
          },
          "execution_count": 10
        }
      ]
    },
    {
      "metadata": {
        "id": "UxdWkfjrpTSc",
        "colab_type": "text"
      },
      "cell_type": "markdown",
      "source": [
        "If I leave out the end index, it's assumed to be the length of the list."
      ]
    },
    {
      "metadata": {
        "id": "6Fd-mvScpTSd",
        "colab_type": "code",
        "colab": {
          "base_uri": "https://localhost:8080/",
          "height": 34
        },
        "outputId": "07a6b845-1975-4467-859e-bf90a1e84595"
      },
      "cell_type": "code",
      "source": [
        "planets[3:]"
      ],
      "execution_count": 11,
      "outputs": [
        {
          "output_type": "execute_result",
          "data": {
            "text/plain": [
              "['Mars', 'Jupiter', 'Saturn', 'Uranus', 'Neptune']"
            ]
          },
          "metadata": {
            "tags": []
          },
          "execution_count": 11
        }
      ]
    },
    {
      "metadata": {
        "id": "1RdL7JdRpTSg",
        "colab_type": "text"
      },
      "cell_type": "markdown",
      "source": [
        "i.e. the expression above means \"give me all the planets from index 3 onward\".\n",
        "\n",
        "We can also use negative indices when slicing:"
      ]
    },
    {
      "metadata": {
        "id": "qopBCBSwpTSg",
        "colab_type": "code",
        "colab": {
          "base_uri": "https://localhost:8080/",
          "height": 34
        },
        "outputId": "41de1322-b754-45ba-b097-8c6868d3e42a"
      },
      "cell_type": "code",
      "source": [
        "# All the planets except the first and last\n",
        "planets[1:-1]"
      ],
      "execution_count": 12,
      "outputs": [
        {
          "output_type": "execute_result",
          "data": {
            "text/plain": [
              "['Venus', 'Earth', 'Mars', 'Jupiter', 'Saturn', 'Uranus']"
            ]
          },
          "metadata": {
            "tags": []
          },
          "execution_count": 12
        }
      ]
    },
    {
      "metadata": {
        "id": "U47CeIvPpTSi",
        "colab_type": "code",
        "colab": {
          "base_uri": "https://localhost:8080/",
          "height": 34
        },
        "outputId": "49946126-97ba-40de-c6ff-c1abdf7c29f6"
      },
      "cell_type": "code",
      "source": [
        "# The last 3 planets\n",
        "planets[-3:]"
      ],
      "execution_count": 13,
      "outputs": [
        {
          "output_type": "execute_result",
          "data": {
            "text/plain": [
              "['Saturn', 'Uranus', 'Neptune']"
            ]
          },
          "metadata": {
            "tags": []
          },
          "execution_count": 13
        }
      ]
    },
    {
      "metadata": {
        "id": "gu8d_iSqpTSk",
        "colab_type": "text"
      },
      "cell_type": "markdown",
      "source": [
        "<!-- TODO: include third 'step size' slice argument and its use for reversing? -->\n",
        "\n",
        "## Mutating lists\n",
        "\n",
        "Lists are mutable, meaning they can be modified \"in place\".\n",
        "\n",
        "One way to modify a list is to assign to an index or slice expression.\n",
        "\n",
        "For example, let's say we want to rename Mars:"
      ]
    },
    {
      "metadata": {
        "id": "koMY3HHZpTSk",
        "colab_type": "code",
        "colab": {
          "base_uri": "https://localhost:8080/",
          "height": 153
        },
        "outputId": "d12a7ed6-4aeb-476e-b75f-6dd2c0c42ccf"
      },
      "cell_type": "code",
      "source": [
        "planets[3] = 'Malacandra'\n",
        "planets"
      ],
      "execution_count": 14,
      "outputs": [
        {
          "output_type": "execute_result",
          "data": {
            "text/plain": [
              "['Mercury',\n",
              " 'Venus',\n",
              " 'Earth',\n",
              " 'Malacandra',\n",
              " 'Jupiter',\n",
              " 'Saturn',\n",
              " 'Uranus',\n",
              " 'Neptune']"
            ]
          },
          "metadata": {
            "tags": []
          },
          "execution_count": 14
        }
      ]
    },
    {
      "metadata": {
        "id": "8znUgFUDpTSm",
        "colab_type": "text"
      },
      "cell_type": "markdown",
      "source": [
        "Hm, that's quite a mouthful. Let's compensate by shortening the names of the first 3 planets."
      ]
    },
    {
      "metadata": {
        "id": "Gu-RD-GqpTSm",
        "colab_type": "code",
        "colab": {
          "base_uri": "https://localhost:8080/",
          "height": 34
        },
        "outputId": "c8d149b9-bde8-437d-b5e1-d43036e35bd7"
      },
      "cell_type": "code",
      "source": [
        "planets[:3] = ['Mur', 'Vee', 'Ur']\n",
        "print(planets)\n",
        "# (Okay, that was rather silly. Let's give them back their old names)\n",
        "planets[:4] = ['Mercury', 'Venus', 'Earth', 'Mars',]"
      ],
      "execution_count": 15,
      "outputs": [
        {
          "output_type": "stream",
          "text": [
            "['Mur', 'Vee', 'Ur', 'Malacandra', 'Jupiter', 'Saturn', 'Uranus', 'Neptune']\n"
          ],
          "name": "stdout"
        }
      ]
    },
    {
      "metadata": {
        "id": "gBW_8KUzpTSo",
        "colab_type": "text"
      },
      "cell_type": "markdown",
      "source": [
        "## List functions\n",
        "\n",
        "Python has several useful builtin functions for working with lists.\n",
        "\n",
        "`len` gives the length of a list:"
      ]
    },
    {
      "metadata": {
        "id": "eAewidSCpTSp",
        "colab_type": "code",
        "colab": {
          "base_uri": "https://localhost:8080/",
          "height": 34
        },
        "outputId": "f56b9398-6f6a-4c11-d70c-bf0ca6de3f7e"
      },
      "cell_type": "code",
      "source": [
        "# How many planets are there?\n",
        "len(planets)"
      ],
      "execution_count": 16,
      "outputs": [
        {
          "output_type": "execute_result",
          "data": {
            "text/plain": [
              "8"
            ]
          },
          "metadata": {
            "tags": []
          },
          "execution_count": 16
        }
      ]
    },
    {
      "metadata": {
        "id": "k5zK1ftzpTSr",
        "colab_type": "text"
      },
      "cell_type": "markdown",
      "source": [
        "`sorted` returns a sorted version of a list:"
      ]
    },
    {
      "metadata": {
        "id": "wonV8amHpTSr",
        "colab_type": "code",
        "colab": {
          "base_uri": "https://localhost:8080/",
          "height": 34
        },
        "outputId": "2cd23785-f379-4388-bc86-94d0df87e4df"
      },
      "cell_type": "code",
      "source": [
        "# The planets sorted in alphabetical order\n",
        "sorted(planets)"
      ],
      "execution_count": 17,
      "outputs": [
        {
          "output_type": "execute_result",
          "data": {
            "text/plain": [
              "['Earth', 'Jupiter', 'Mars', 'Mercury', 'Neptune', 'Saturn', 'Uranus', 'Venus']"
            ]
          },
          "metadata": {
            "tags": []
          },
          "execution_count": 17
        }
      ]
    },
    {
      "metadata": {
        "id": "HX4a1kcnpTSt",
        "colab_type": "text"
      },
      "cell_type": "markdown",
      "source": [
        "`sum` does what you might expect:"
      ]
    },
    {
      "metadata": {
        "id": "GhR14rfHpTSt",
        "colab_type": "code",
        "colab": {
          "base_uri": "https://localhost:8080/",
          "height": 34
        },
        "outputId": "0cd3277f-26d0-415b-d4e2-18b961f812b7"
      },
      "cell_type": "code",
      "source": [
        "primes = [2, 3, 5, 7]\n",
        "sum(primes)"
      ],
      "execution_count": 18,
      "outputs": [
        {
          "output_type": "execute_result",
          "data": {
            "text/plain": [
              "17"
            ]
          },
          "metadata": {
            "tags": []
          },
          "execution_count": 18
        }
      ]
    },
    {
      "metadata": {
        "id": "b1CR-7l3pTSv",
        "colab_type": "text"
      },
      "cell_type": "markdown",
      "source": [
        "We've previously used the `min` and `max` to get the minimum or maximum of several arguments. But we can also pass in a single list argument."
      ]
    },
    {
      "metadata": {
        "id": "30avsMkRpTSw",
        "colab_type": "code",
        "colab": {
          "base_uri": "https://localhost:8080/",
          "height": 34
        },
        "outputId": "01165bc6-00b9-485b-e74c-c6ec4bf096b0"
      },
      "cell_type": "code",
      "source": [
        "max(primes)"
      ],
      "execution_count": 19,
      "outputs": [
        {
          "output_type": "execute_result",
          "data": {
            "text/plain": [
              "7"
            ]
          },
          "metadata": {
            "tags": []
          },
          "execution_count": 19
        }
      ]
    },
    {
      "metadata": {
        "id": "Q5SEaRkTpTSx",
        "colab_type": "text"
      },
      "cell_type": "markdown",
      "source": [
        "## Interlude: objects\n",
        "\n",
        "I've been throwing around the term 'object' a lot so far - you may even remember me claiming that *everything* in Python is an object. But what does that actually mean?\n",
        "\n",
        "In short, objects carry some stuff around with them. We can access that stuff using Python's dot syntax.\n",
        "\n",
        "For example, numbers in Python carry around an associated variable called `imag` representing their imaginary part. (You'll probably never need to use this unless you're doing some very weird math.)"
      ]
    },
    {
      "metadata": {
        "id": "mDuOlBQrpTSy",
        "colab_type": "code",
        "colab": {
          "base_uri": "https://localhost:8080/",
          "height": 51
        },
        "outputId": "6d285588-989e-4529-e59e-b5b37c933ce3"
      },
      "cell_type": "code",
      "source": [
        "x = 12\n",
        "# x is a real number, so its imaginary part is 0.\n",
        "print(x.imag)\n",
        "# Here's how to make a complex number, in case you've ever been curious:\n",
        "c = 12 + 3j\n",
        "print(c.imag)"
      ],
      "execution_count": 20,
      "outputs": [
        {
          "output_type": "stream",
          "text": [
            "0\n",
            "3.0\n"
          ],
          "name": "stdout"
        }
      ]
    },
    {
      "metadata": {
        "id": "IebO8izSpTS0",
        "colab_type": "text"
      },
      "cell_type": "markdown",
      "source": [
        "The things an object carries around can also include functions. A function attached to an object is called a **method**. (Non-function things attached to an object, such as `imag`, are called *attributes*).\n",
        "\n",
        "For example, numbers have a method called `bit_length`. Again, we access it using dot syntax:"
      ]
    },
    {
      "metadata": {
        "id": "rWHU-7nEpTS1",
        "colab_type": "code",
        "colab": {
          "base_uri": "https://localhost:8080/",
          "height": 34
        },
        "outputId": "7fbe13cc-bcf1-424d-e1ed-19f82a529d3d"
      },
      "cell_type": "code",
      "source": [
        "x.bit_length"
      ],
      "execution_count": 21,
      "outputs": [
        {
          "output_type": "execute_result",
          "data": {
            "text/plain": [
              "<function int.bit_length>"
            ]
          },
          "metadata": {
            "tags": []
          },
          "execution_count": 21
        }
      ]
    },
    {
      "metadata": {
        "id": "A9OnU6NnpTS3",
        "colab_type": "text"
      },
      "cell_type": "markdown",
      "source": [
        "To actually call it, we add parentheses:"
      ]
    },
    {
      "metadata": {
        "id": "BjMd0BtMpTS4",
        "colab_type": "code",
        "colab": {
          "base_uri": "https://localhost:8080/",
          "height": 34
        },
        "outputId": "3cdab270-ca66-48d0-c8c9-dc5788b3dc3c"
      },
      "cell_type": "code",
      "source": [
        "x.bit_length()"
      ],
      "execution_count": 22,
      "outputs": [
        {
          "output_type": "execute_result",
          "data": {
            "text/plain": [
              "4"
            ]
          },
          "metadata": {
            "tags": []
          },
          "execution_count": 22
        }
      ]
    },
    {
      "metadata": {
        "id": "WHanpmDPpTS5",
        "colab_type": "text"
      },
      "cell_type": "markdown",
      "source": [
        "> **Aside:** You've actually been calling methods already if you've been doing the exercises. In the exercise notebooks `q1`, `q2`, `q3`, etc. are all objects which have methods called `check`, `hint`, and `solution`.\n",
        "\n",
        "In the same way that we can pass functions to the `help` function (e.g. `help(max)`), we can also pass in methods:"
      ]
    },
    {
      "metadata": {
        "id": "q40lB1IlpTS6",
        "colab_type": "code",
        "colab": {
          "base_uri": "https://localhost:8080/",
          "height": 204
        },
        "outputId": "8c5a6bb7-ed1f-4b31-d1dd-a2a20fd41279"
      },
      "cell_type": "code",
      "source": [
        "help(x.bit_length)"
      ],
      "execution_count": 23,
      "outputs": [
        {
          "output_type": "stream",
          "text": [
            "Help on built-in function bit_length:\n",
            "\n",
            "bit_length(...) method of builtins.int instance\n",
            "    int.bit_length() -> int\n",
            "    \n",
            "    Number of bits necessary to represent self in binary.\n",
            "    >>> bin(37)\n",
            "    '0b100101'\n",
            "    >>> (37).bit_length()\n",
            "    6\n",
            "\n"
          ],
          "name": "stdout"
        }
      ]
    },
    {
      "metadata": {
        "id": "7Ux76AdZpTS8",
        "colab_type": "text"
      },
      "cell_type": "markdown",
      "source": [
        "<!-- TODO:\n",
        "dir?\n",
        "A useful builtin method for interacting with objects is `dir`. `dir` asks: what are the names of all the things (methods, and attributes) that this object is carrying around?\n",
        "help(x)?\n",
        "-->\n",
        "\n",
        "The examples above were utterly obscure. None of the types of objects we've looked at so far (numbers, functions, booleans) have attributes or methods you're likely ever to use.\n",
        "\n",
        "But it turns out that lists have several methods which you'll use all the time."
      ]
    },
    {
      "metadata": {
        "id": "n_xczSH4pTS9",
        "colab_type": "text"
      },
      "cell_type": "markdown",
      "source": [
        "## List methods"
      ]
    },
    {
      "metadata": {
        "id": "3y4opAR7pTS-",
        "colab_type": "text"
      },
      "cell_type": "markdown",
      "source": [
        "`list.append` modifies a list by adding an item to the end:"
      ]
    },
    {
      "metadata": {
        "id": "yrTf-vaspTS_",
        "colab_type": "code",
        "colab": {}
      },
      "cell_type": "code",
      "source": [
        "# Pluto is a planet darn it!\n",
        "planets.append('Pluto')"
      ],
      "execution_count": 0,
      "outputs": []
    },
    {
      "metadata": {
        "id": "I0KQl-yGpTTA",
        "colab_type": "text"
      },
      "cell_type": "markdown",
      "source": [
        "Why does the cell above have no output? Let's check the documentation by calling `help(planets.append)`.\n",
        "\n",
        "> **Aside:** `append` is a method carried around by *all* objects of type list, not just `planets`, so we also could have called `help(list.append)`. However, if we try to call `help(append)`, Python will complain that no variable exists called \"append\". The \"append\" name only exists within lists - it doesn't exist as a standalone name like builtin functions such as `max` or `len`."
      ]
    },
    {
      "metadata": {
        "id": "cQDZid1ypTTB",
        "colab_type": "code",
        "colab": {
          "base_uri": "https://localhost:8080/",
          "height": 102
        },
        "outputId": "83620d3c-3f09-4baf-a41e-42bae05e05ba"
      },
      "cell_type": "code",
      "source": [
        "help(planets.append)"
      ],
      "execution_count": 25,
      "outputs": [
        {
          "output_type": "stream",
          "text": [
            "Help on built-in function append:\n",
            "\n",
            "append(...) method of builtins.list instance\n",
            "    L.append(object) -> None -- append object to end\n",
            "\n"
          ],
          "name": "stdout"
        }
      ]
    },
    {
      "metadata": {
        "id": "MnkJF5IIpTTD",
        "colab_type": "text"
      },
      "cell_type": "markdown",
      "source": [
        "The `-> None` part is telling us that `list.append` doesn't return anything. But if we check the value of `planets`, we can see that the method call modified the value of `planets`:"
      ]
    },
    {
      "metadata": {
        "id": "ILFwlWl6pTTE",
        "colab_type": "code",
        "colab": {
          "base_uri": "https://localhost:8080/",
          "height": 170
        },
        "outputId": "508bf611-788f-4976-c4fa-ac5e4633b70c"
      },
      "cell_type": "code",
      "source": [
        "planets"
      ],
      "execution_count": 26,
      "outputs": [
        {
          "output_type": "execute_result",
          "data": {
            "text/plain": [
              "['Mercury',\n",
              " 'Venus',\n",
              " 'Earth',\n",
              " 'Mars',\n",
              " 'Jupiter',\n",
              " 'Saturn',\n",
              " 'Uranus',\n",
              " 'Neptune',\n",
              " 'Pluto']"
            ]
          },
          "metadata": {
            "tags": []
          },
          "execution_count": 26
        }
      ]
    },
    {
      "metadata": {
        "id": "tiZt-cSbpTTF",
        "colab_type": "text"
      },
      "cell_type": "markdown",
      "source": [
        "`list.pop` removes and returns the last element of a list:"
      ]
    },
    {
      "metadata": {
        "id": "-AiLkOcTpTTG",
        "colab_type": "code",
        "colab": {
          "base_uri": "https://localhost:8080/",
          "height": 34
        },
        "outputId": "4eaba46b-4e0f-4ecb-c647-6b88fa4b4310"
      },
      "cell_type": "code",
      "source": [
        "planets.pop()"
      ],
      "execution_count": 27,
      "outputs": [
        {
          "output_type": "execute_result",
          "data": {
            "text/plain": [
              "'Pluto'"
            ]
          },
          "metadata": {
            "tags": []
          },
          "execution_count": 27
        }
      ]
    },
    {
      "metadata": {
        "id": "kTzMh8QbpTTH",
        "colab_type": "code",
        "colab": {
          "base_uri": "https://localhost:8080/",
          "height": 34
        },
        "outputId": "f4b3e90b-7f26-4954-e3fa-a068f411afcb"
      },
      "cell_type": "code",
      "source": [
        "planets"
      ],
      "execution_count": 28,
      "outputs": [
        {
          "output_type": "execute_result",
          "data": {
            "text/plain": [
              "['Mercury', 'Venus', 'Earth', 'Mars', 'Jupiter', 'Saturn', 'Uranus', 'Neptune']"
            ]
          },
          "metadata": {
            "tags": []
          },
          "execution_count": 28
        }
      ]
    },
    {
      "metadata": {
        "id": "nku1swdopTTJ",
        "colab_type": "text"
      },
      "cell_type": "markdown",
      "source": [
        "### Searching lists\n",
        "\n",
        "Where does Earth fall in the order of planets? We can get its index using the `list.index` method."
      ]
    },
    {
      "metadata": {
        "id": "doRZyYnCpTTJ",
        "colab_type": "code",
        "colab": {
          "base_uri": "https://localhost:8080/",
          "height": 34
        },
        "outputId": "17bb4850-4ef9-4226-9c3c-285a9286298d"
      },
      "cell_type": "code",
      "source": [
        "planets.index('Earth')"
      ],
      "execution_count": 29,
      "outputs": [
        {
          "output_type": "execute_result",
          "data": {
            "text/plain": [
              "2"
            ]
          },
          "metadata": {
            "tags": []
          },
          "execution_count": 29
        }
      ]
    },
    {
      "metadata": {
        "id": "1-OKzKocpTTL",
        "colab_type": "text"
      },
      "cell_type": "markdown",
      "source": [
        "It comes third (i.e. at index 2 - 0 indexing!).\n",
        "\n",
        "At what index does Pluto occur?"
      ]
    },
    {
      "metadata": {
        "id": "bIPKjp5ApTTM",
        "colab_type": "code",
        "colab": {
          "base_uri": "https://localhost:8080/",
          "height": 163
        },
        "outputId": "6a9ab6c7-a6af-497b-e556-71dd3d385346"
      },
      "cell_type": "code",
      "source": [
        "planets.index('Pluto')"
      ],
      "execution_count": 30,
      "outputs": [
        {
          "output_type": "error",
          "ename": "ValueError",
          "evalue": "ignored",
          "traceback": [
            "\u001b[0;31m---------------------------------------------------------------------------\u001b[0m",
            "\u001b[0;31mValueError\u001b[0m                                Traceback (most recent call last)",
            "\u001b[0;32m<ipython-input-30-3a8584cba91a>\u001b[0m in \u001b[0;36m<module>\u001b[0;34m()\u001b[0m\n\u001b[0;32m----> 1\u001b[0;31m \u001b[0mplanets\u001b[0m\u001b[0;34m.\u001b[0m\u001b[0mindex\u001b[0m\u001b[0;34m(\u001b[0m\u001b[0;34m'Pluto'\u001b[0m\u001b[0;34m)\u001b[0m\u001b[0;34m\u001b[0m\u001b[0m\n\u001b[0m",
            "\u001b[0;31mValueError\u001b[0m: 'Pluto' is not in list"
          ]
        }
      ]
    },
    {
      "metadata": {
        "id": "lMAB9QOQpTTO",
        "colab_type": "text"
      },
      "cell_type": "markdown",
      "source": [
        "Oh, that's right...\n",
        "\n",
        "To avoid unpleasant surprises like this, we can use the `in` operator to determine whether a list contains a particular value:"
      ]
    },
    {
      "metadata": {
        "id": "xb0QqwPmpTTO",
        "colab_type": "code",
        "colab": {
          "base_uri": "https://localhost:8080/",
          "height": 34
        },
        "outputId": "59184425-d5e8-4ba9-b7ec-9f6695452848"
      },
      "cell_type": "code",
      "source": [
        "# Is Earth a planet?\n",
        "\"Earth\" in planets"
      ],
      "execution_count": 31,
      "outputs": [
        {
          "output_type": "execute_result",
          "data": {
            "text/plain": [
              "True"
            ]
          },
          "metadata": {
            "tags": []
          },
          "execution_count": 31
        }
      ]
    },
    {
      "metadata": {
        "id": "5dtlYsRGpTTT",
        "colab_type": "code",
        "colab": {
          "base_uri": "https://localhost:8080/",
          "height": 34
        },
        "outputId": "7170d7d2-c26d-42a1-e21e-ff685ca674a0"
      },
      "cell_type": "code",
      "source": [
        "# Is Calbefraques a planet?\n",
        "\"Calbefraques\" in planets"
      ],
      "execution_count": 32,
      "outputs": [
        {
          "output_type": "execute_result",
          "data": {
            "text/plain": [
              "False"
            ]
          },
          "metadata": {
            "tags": []
          },
          "execution_count": 32
        }
      ]
    },
    {
      "metadata": {
        "id": "wwQGD0WCpTTV",
        "colab_type": "text"
      },
      "cell_type": "markdown",
      "source": [
        "There are a few more interesting list methods we haven't covered. If you want to learn about all the methods and attributes attached to a particular object, we can call `help()` on the object itself. For example, `help(planets)` will tell us about *all* the list methods: "
      ]
    },
    {
      "metadata": {
        "id": "SvRCHJGppTTV",
        "colab_type": "code",
        "colab": {
          "base_uri": "https://localhost:8080/",
          "height": 2023
        },
        "outputId": "e75470a5-9209-4b4c-ac6a-6e361c4d970f"
      },
      "cell_type": "code",
      "source": [
        "help(planets)"
      ],
      "execution_count": 33,
      "outputs": [
        {
          "output_type": "stream",
          "text": [
            "Help on list object:\n",
            "\n",
            "class list(object)\n",
            " |  list() -> new empty list\n",
            " |  list(iterable) -> new list initialized from iterable's items\n",
            " |  \n",
            " |  Methods defined here:\n",
            " |  \n",
            " |  __add__(self, value, /)\n",
            " |      Return self+value.\n",
            " |  \n",
            " |  __contains__(self, key, /)\n",
            " |      Return key in self.\n",
            " |  \n",
            " |  __delitem__(self, key, /)\n",
            " |      Delete self[key].\n",
            " |  \n",
            " |  __eq__(self, value, /)\n",
            " |      Return self==value.\n",
            " |  \n",
            " |  __ge__(self, value, /)\n",
            " |      Return self>=value.\n",
            " |  \n",
            " |  __getattribute__(self, name, /)\n",
            " |      Return getattr(self, name).\n",
            " |  \n",
            " |  __getitem__(...)\n",
            " |      x.__getitem__(y) <==> x[y]\n",
            " |  \n",
            " |  __gt__(self, value, /)\n",
            " |      Return self>value.\n",
            " |  \n",
            " |  __iadd__(self, value, /)\n",
            " |      Implement self+=value.\n",
            " |  \n",
            " |  __imul__(self, value, /)\n",
            " |      Implement self*=value.\n",
            " |  \n",
            " |  __init__(self, /, *args, **kwargs)\n",
            " |      Initialize self.  See help(type(self)) for accurate signature.\n",
            " |  \n",
            " |  __iter__(self, /)\n",
            " |      Implement iter(self).\n",
            " |  \n",
            " |  __le__(self, value, /)\n",
            " |      Return self<=value.\n",
            " |  \n",
            " |  __len__(self, /)\n",
            " |      Return len(self).\n",
            " |  \n",
            " |  __lt__(self, value, /)\n",
            " |      Return self<value.\n",
            " |  \n",
            " |  __mul__(self, value, /)\n",
            " |      Return self*value.n\n",
            " |  \n",
            " |  __ne__(self, value, /)\n",
            " |      Return self!=value.\n",
            " |  \n",
            " |  __new__(*args, **kwargs) from builtins.type\n",
            " |      Create and return a new object.  See help(type) for accurate signature.\n",
            " |  \n",
            " |  __repr__(self, /)\n",
            " |      Return repr(self).\n",
            " |  \n",
            " |  __reversed__(...)\n",
            " |      L.__reversed__() -- return a reverse iterator over the list\n",
            " |  \n",
            " |  __rmul__(self, value, /)\n",
            " |      Return self*value.\n",
            " |  \n",
            " |  __setitem__(self, key, value, /)\n",
            " |      Set self[key] to value.\n",
            " |  \n",
            " |  __sizeof__(...)\n",
            " |      L.__sizeof__() -- size of L in memory, in bytes\n",
            " |  \n",
            " |  append(...)\n",
            " |      L.append(object) -> None -- append object to end\n",
            " |  \n",
            " |  clear(...)\n",
            " |      L.clear() -> None -- remove all items from L\n",
            " |  \n",
            " |  copy(...)\n",
            " |      L.copy() -> list -- a shallow copy of L\n",
            " |  \n",
            " |  count(...)\n",
            " |      L.count(value) -> integer -- return number of occurrences of value\n",
            " |  \n",
            " |  extend(...)\n",
            " |      L.extend(iterable) -> None -- extend list by appending elements from the iterable\n",
            " |  \n",
            " |  index(...)\n",
            " |      L.index(value, [start, [stop]]) -> integer -- return first index of value.\n",
            " |      Raises ValueError if the value is not present.\n",
            " |  \n",
            " |  insert(...)\n",
            " |      L.insert(index, object) -- insert object before index\n",
            " |  \n",
            " |  pop(...)\n",
            " |      L.pop([index]) -> item -- remove and return item at index (default last).\n",
            " |      Raises IndexError if list is empty or index is out of range.\n",
            " |  \n",
            " |  remove(...)\n",
            " |      L.remove(value) -> None -- remove first occurrence of value.\n",
            " |      Raises ValueError if the value is not present.\n",
            " |  \n",
            " |  reverse(...)\n",
            " |      L.reverse() -- reverse *IN PLACE*\n",
            " |  \n",
            " |  sort(...)\n",
            " |      L.sort(key=None, reverse=False) -> None -- stable sort *IN PLACE*\n",
            " |  \n",
            " |  ----------------------------------------------------------------------\n",
            " |  Data and other attributes defined here:\n",
            " |  \n",
            " |  __hash__ = None\n",
            "\n"
          ],
          "name": "stdout"
        }
      ]
    },
    {
      "metadata": {
        "id": "OlIHWaf4pTTY",
        "colab_type": "text"
      },
      "cell_type": "markdown",
      "source": [
        "Click the \"output\" button to see the full help page. Lists have lots of methods with weird-looking names like `__eq__` and `__iadd__`. Don't worry too much about these for now. (You'll probably never call such methods directly. But they get called behind the scenes when we use syntax like indexing or comparison operators.) The most interesting methods are toward the bottom of the list (`append`, `clear`, `copy`, etc.)."
      ]
    },
    {
      "metadata": {
        "id": "qz6E1GfJpTTY",
        "colab_type": "text"
      },
      "cell_type": "markdown",
      "source": [
        "## Tuples\n",
        "\n",
        "Tuples are almost exactly the same as lists. They differ in just two ways.\n",
        "\n",
        "**1:** The syntax for creating them uses (optional) parentheses rather than square brackets"
      ]
    },
    {
      "metadata": {
        "id": "xEgCcF-upTTZ",
        "colab_type": "code",
        "colab": {}
      },
      "cell_type": "code",
      "source": [
        "t = (1, 2, 3)"
      ],
      "execution_count": 0,
      "outputs": []
    },
    {
      "metadata": {
        "id": "XP2thmyZpTTn",
        "colab_type": "code",
        "colab": {
          "base_uri": "https://localhost:8080/",
          "height": 34
        },
        "outputId": "886138a1-1627-42e7-b2ea-f606ea1c846d"
      },
      "cell_type": "code",
      "source": [
        "t = 1, 2, 3 # equivalent to above\n",
        "t"
      ],
      "execution_count": 35,
      "outputs": [
        {
          "output_type": "execute_result",
          "data": {
            "text/plain": [
              "(1, 2, 3)"
            ]
          },
          "metadata": {
            "tags": []
          },
          "execution_count": 35
        }
      ]
    },
    {
      "metadata": {
        "id": "x3HJi4RKpTTp",
        "colab_type": "text"
      },
      "cell_type": "markdown",
      "source": [
        "**2:** They cannot be modified (they are *immutable*)."
      ]
    },
    {
      "metadata": {
        "id": "qg_jVPS3pTTp",
        "colab_type": "code",
        "colab": {
          "base_uri": "https://localhost:8080/",
          "height": 163
        },
        "outputId": "13d98ec8-6ea1-410f-dc2e-2bfd523fd471"
      },
      "cell_type": "code",
      "source": [
        "t[0] = 100"
      ],
      "execution_count": 36,
      "outputs": [
        {
          "output_type": "error",
          "ename": "TypeError",
          "evalue": "ignored",
          "traceback": [
            "\u001b[0;31m---------------------------------------------------------------------------\u001b[0m",
            "\u001b[0;31mTypeError\u001b[0m                                 Traceback (most recent call last)",
            "\u001b[0;32m<ipython-input-36-e6cf7836e708>\u001b[0m in \u001b[0;36m<module>\u001b[0;34m()\u001b[0m\n\u001b[0;32m----> 1\u001b[0;31m \u001b[0mt\u001b[0m\u001b[0;34m[\u001b[0m\u001b[0;36m0\u001b[0m\u001b[0;34m]\u001b[0m \u001b[0;34m=\u001b[0m \u001b[0;36m100\u001b[0m\u001b[0;34m\u001b[0m\u001b[0m\n\u001b[0m",
            "\u001b[0;31mTypeError\u001b[0m: 'tuple' object does not support item assignment"
          ]
        }
      ]
    },
    {
      "metadata": {
        "id": "54YjR5LXpTTr",
        "colab_type": "text"
      },
      "cell_type": "markdown",
      "source": [
        "Tuples are often used for functions that have multiple return values.\n",
        "\n",
        "For example, the ``as_integer_ratio()`` method of float objects returns a numerator and a denominator in the form of a tuple:"
      ]
    },
    {
      "metadata": {
        "id": "nHslkgC6pTTs",
        "colab_type": "code",
        "colab": {
          "base_uri": "https://localhost:8080/",
          "height": 34
        },
        "outputId": "55a8e3b8-3ee9-40ad-b627-de9009b2e1a9"
      },
      "cell_type": "code",
      "source": [
        "x = 0.125\n",
        "x.as_integer_ratio()"
      ],
      "execution_count": 37,
      "outputs": [
        {
          "output_type": "execute_result",
          "data": {
            "text/plain": [
              "(1, 8)"
            ]
          },
          "metadata": {
            "tags": []
          },
          "execution_count": 37
        }
      ]
    },
    {
      "metadata": {
        "id": "VnvCKtfIpTTu",
        "colab_type": "text"
      },
      "cell_type": "markdown",
      "source": [
        "These multiple return values can be individually assigned as follows:"
      ]
    },
    {
      "metadata": {
        "id": "BfCoNKGlpTTu",
        "colab_type": "code",
        "colab": {
          "base_uri": "https://localhost:8080/",
          "height": 34
        },
        "outputId": "860d8948-b34e-44ec-8da9-e2484489e8ea"
      },
      "cell_type": "code",
      "source": [
        "numerator, denominator = x.as_integer_ratio()\n",
        "print(numerator / denominator)"
      ],
      "execution_count": 38,
      "outputs": [
        {
          "output_type": "stream",
          "text": [
            "0.125\n"
          ],
          "name": "stdout"
        }
      ]
    },
    {
      "metadata": {
        "id": "o-MqiDikpTTw",
        "colab_type": "text"
      },
      "cell_type": "markdown",
      "source": [
        "Finally we have some insight into the classic Stupid Python Trick™ for swapping two variables!"
      ]
    },
    {
      "metadata": {
        "id": "3soElJpGpTTx",
        "colab_type": "code",
        "colab": {
          "base_uri": "https://localhost:8080/",
          "height": 34
        },
        "outputId": "3af479d8-ff44-447c-b5fa-1d393b6a04e2"
      },
      "cell_type": "code",
      "source": [
        "a = 1\n",
        "b = 0\n",
        "a, b = b, a\n",
        "print(a, b)"
      ],
      "execution_count": 39,
      "outputs": [
        {
          "output_type": "stream",
          "text": [
            "0 1\n"
          ],
          "name": "stdout"
        }
      ]
    }
  ]
}
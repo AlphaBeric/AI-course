{
 "cells": [
  {
   "cell_type": "markdown",
   "metadata": {
    "_uuid": "7ed85649cb5d3b43b9a7a7b97feacd7b2a92bb6c"
   },
   "source": [
    "# Exercises"
   ]
  },
  {
   "cell_type": "markdown",
   "metadata": {
    "_uuid": "d4067cb86408adb95671636919351b95ff6da893"
   },
   "source": [
    "Welcome to your first set of Python coding problems! Each tutorial will be followed by a handful of problems so you can practice what you just learned.\n",
    "\n",
    "\n",
    "Try running the code cell below (by pressing the ► button in the left margin, or clicking on the cell and using the keyboard shortcut ctrl+enter)."
   ]
  },
  {
   "cell_type": "code",
   "execution_count": 1,
   "metadata": {
    "_uuid": "6b08d02c12258ef7d04f428f77b902c624e66818"
   },
   "outputs": [
    {
     "name": "stdout",
     "output_type": "stream",
     "text": [
      "You've successfully run some Python code\n",
      "Congratulations!\n"
     ]
    }
   ],
   "source": [
    "print(\"You've successfully run some Python code\")\n",
    "print(\"Congratulations!\")"
   ]
  },
  {
   "cell_type": "markdown",
   "metadata": {
    "_uuid": "7198a06de90a18ffce64eb1e0ed9ae71228951a9"
   },
   "source": [
    "Try adding another line of code to the cell above and re-running it. \n",
    "\n",
    "Try creating a new code cell (using the \"+\" buttons in a cell's top-right menu), writing some code in it, then running it.\n",
    "\n",
    "Great! You now know how to use ipython notebook.\n"
   ]
  },
  {
   "cell_type": "markdown",
   "metadata": {
    "_uuid": "a2b5efdc250d4859b030701ea95e6eb213c0c688"
   },
   "source": [
    "## 0.\n",
    "\n",
    "*This is a silly question intended as an introduction to the format we'll be using for questions throughout the Python course.*\n",
    "\n",
    "**What is your favorite color? **\n",
    "\n",
    "To complete this question, you must create a variable called `color` in the cell below with an appropriate value. "
   ]
  },
  {
   "cell_type": "code",
   "execution_count": 3,
   "metadata": {
    "_uuid": "8ac999b67cdd423e7fdf3864f3e7cdb9d1969af0"
   },
   "outputs": [],
   "source": [
    "# create a variable called color with an appropriate value on the line below.\n"
   ]
  },
  {
   "cell_type": "markdown",
   "metadata": {
    "_uuid": "e5a85c90be5d1509a577258a7b312c9fe113a968"
   },
   "source": [
    "Now try editing the cell below to solve the problem, creating a variable `color` on the second line of the cell. Run the cell to check your answer."
   ]
  },
  {
   "cell_type": "code",
   "execution_count": null,
   "metadata": {
    "_uuid": "ed229e2a9ae4403ec8a248b6ae00eb2e2d793e64",
    "collapsed": true
   },
   "outputs": [],
   "source": [
    "# create a variable called color with an appropriate value on the line below\n",
    "# (Remember, strings in Python must be enclosed in 'single' or \"double\" quotes)\n",
    "\n"
   ]
  },
  {
   "cell_type": "markdown",
   "metadata": {
    "_uuid": "32e7b11304ba30d2834901edb563b2e5958646a6"
   },
   "source": [
    "<hr/>\n",
    "\n",
    "## 1.\n",
    "\n",
    "Complete the code below."
   ]
  },
  {
   "cell_type": "code",
   "execution_count": null,
   "metadata": {
    "_uuid": "455aa0424d1f543a54d58bec11699a0e809383fa",
    "collapsed": true
   },
   "outputs": [],
   "source": [
    "pi = 3.14159 # approximate\n",
    "diameter = 3\n",
    "\n",
    "# Create a variable called 'radius' equal to half the diameter\n",
    "\n",
    "# Create a variable called 'area', using the formula for the area of a circle: pi times the radius squared\n",
    "\n"
   ]
  },
  {
   "cell_type": "markdown",
   "metadata": {
    "_uuid": "33dfdcd4afcf4f57714b3ef25ac39c081b985dfc"
   },
   "source": [
    "<hr/>\n",
    "## 2.\n",
    "\n",
    "Add code to the following cell to swap variables `a` and `b` (so that `a` refers to the object previously referred to by `b` and vice versa)."
   ]
  },
  {
   "cell_type": "code",
   "execution_count": null,
   "metadata": {
    "_uuid": "3b62e934eb19ebd0607be7b241272f2607a53a6a",
    "collapsed": true
   },
   "outputs": [],
   "source": [
    "########### Setup code - don't touch this part ######################\n",
    "# If you're curious, these are examples of lists. We'll talk about \n",
    "# them in depth a few lessons from now. For now, just know that they're\n",
    "# yet another type of Python object, like int or float.\n",
    "a = [1, 2, 3]\n",
    "b = [3, 2, 1]\n",
    "######################################################################\n",
    "\n",
    "# Your code goes here. Swap the values to which a and b refer.\n",
    "\n",
    "\n",
    "######################################################################\n"
   ]
  },
  {
   "cell_type": "markdown",
   "metadata": {
    "_uuid": "c9b2d4bd667066bc1608aee302226ce75eef9fce"
   },
   "source": [
    "<hr/>\n",
    "## 3.\n",
    "\n",
    "<!-- TODO: Or maybe this SHOULD just have a check method for consistency.-->\n",
    "\n",
    "\n",
    "a) Add parentheses to the following expression so that it evaluates to 1."
   ]
  },
  {
   "cell_type": "code",
   "execution_count": null,
   "metadata": {
    "_uuid": "4cfed4ad717f7e862e64105332c74d12ca3f0b60",
    "collapsed": true
   },
   "outputs": [],
   "source": [
    "5 - 3 // 2"
   ]
  },
  {
   "cell_type": "markdown",
   "metadata": {
    "_uuid": "d11851b21bd3b62566692a6e7ccde012dee67165"
   },
   "source": [
    "b) <span title=\"A bit spicy\" style=\"color: darkgreen \">🌶️</span> Add parentheses to the following expression so that it evaluates to 0\n",
    "\n",
    "<small>Questions, like this one, marked with a single pepper are a bit harder than average.</small>"
   ]
  },
  {
   "cell_type": "code",
   "execution_count": null,
   "metadata": {
    "_uuid": "418f91f66943db82459a138bc105bf3e3c71ab16",
    "collapsed": true
   },
   "outputs": [],
   "source": [
    "8 - 3 * 2 - 1 + 1"
   ]
  },
  {
   "cell_type": "markdown",
   "metadata": {
    "_uuid": "03d7c2a1b96187e784952db7dd8dfb51dfb89a07"
   },
   "source": [
    "<hr/>\n",
    "## 4. \n",
    "Alice, Bob and Carol have agreed to pool their Halloween candy and split it evenly among themselves.\n",
    "For the sake of their friendship, any candies left over will be smashed. For example, if they collectively\n",
    "bring home 91 candies, they'll take 30 each and smash 1.\n",
    "\n",
    "Write an arithmetic expression below to calculate how many candies they must smash for a given haul."
   ]
  },
  {
   "cell_type": "code",
   "execution_count": null,
   "metadata": {
    "_uuid": "14a85036c0ed40860c716c348d9d8502c8b58ae8",
    "collapsed": true
   },
   "outputs": [],
   "source": [
    "# Variables representing the number of candies collected by alice, bob, and carol\n",
    "alice_candies = 121\n",
    "bob_candies = 77\n",
    "carol_candies = 109\n",
    "\n",
    "# Your code goes here! Replace the right-hand side of this assignment with an expression\n",
    "# involving alice_candies, bob_candies, and carol_candies\n",
    "to_smash = -1\n",
    "\n"
   ]
  },
  {
   "cell_type": "markdown",
   "metadata": {
    "_uuid": "e362ad45c3b9ffe505f4d1a4ed9dcc8b569dbbeb"
   },
   "source": [
    "<hr/>\n",
    "## 5. <span title=\"Spicy\" style=\"color: coral\">🌶️🌶️</span>\n",
    "\n",
    "<small>Questions marked with 2 or more peppers are especially tricky.</small>\n",
    "\n",
    "The code cell below may look like ASCII art, but it's actually a valid Python expression.\n",
    "Can you guess its value? Once you've made a prediction, uncomment and run the expression.\n",
    "\n",
    "<!-- TODO: Maybe a q6.a for them to guess the expression value before running, and have us tell them whether it's right or not? -->"
   ]
  },
  {
   "cell_type": "code",
   "execution_count": 5,
   "metadata": {
    "_uuid": "c37741da91d598a1725f10b0c6ef27bd1336d80d"
   },
   "outputs": [],
   "source": [
    "#7------3"
   ]
  },
  {
   "cell_type": "markdown",
   "metadata": {
    "_uuid": "162aaa38fd0ee2c4b7c9a335b99cee50317154ad"
   },
   "source": [
    "What's going on here?\n",
    "\n",
    "Here's a test of your understanding: how will the value of the expression change as `-`s are added or removed from the middle? Fill in the variable `ninety_nine_dashes` in the code cell below with the value of the above expression if we had used 99 `-` symbols between 7 and 3 ."
   ]
  }
 ],
 "metadata": {
  "kernelspec": {
   "display_name": "Python 3",
   "language": "python",
   "name": "python3"
  },
  "language_info": {
   "codemirror_mode": {
    "name": "ipython",
    "version": 3
   },
   "file_extension": ".py",
   "mimetype": "text/x-python",
   "name": "python",
   "nbconvert_exporter": "python",
   "pygments_lexer": "ipython3",
   "version": "3.6.4"
  },
  "learntools_metadata": {
   "lesson_index": 0,
   "type": "exercise"
  }
 },
 "nbformat": 4,
 "nbformat_minor": 1
}

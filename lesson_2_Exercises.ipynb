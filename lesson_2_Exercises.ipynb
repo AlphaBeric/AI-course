{
  "nbformat": 4,
  "nbformat_minor": 0,
  "metadata": {
    "colab": {
      "name": "lesson 2 Exercises.ipynb",
      "version": "0.3.2",
      "provenance": [],
      "include_colab_link": true
    },
    "kernelspec": {
      "display_name": "Python 3",
      "language": "python",
      "name": "python3"
    }
  },
  "cells": [
    {
      "cell_type": "markdown",
      "metadata": {
        "id": "view-in-github",
        "colab_type": "text"
      },
      "source": [
        "[View in Colaboratory](https://colab.research.google.com/github/ShabatA/AI-course/blob/master/lesson_2_Exercises.ipynb)"
      ]
    },
    {
      "metadata": {
        "id": "fC6qG8BX5uus",
        "colab_type": "text"
      },
      "cell_type": "markdown",
      "source": [
        "# Exercises"
      ]
    },
    {
      "metadata": {
        "id": "41CI9ddF5uut",
        "colab_type": "text"
      },
      "cell_type": "markdown",
      "source": [
        "## 1.\n",
        "\n",
        "Complete the body of the following function according to its docstring.\n",
        "\n",
        "HINT: Python has a builtin function `round`"
      ]
    },
    {
      "metadata": {
        "id": "wx6I87KR5uuu",
        "colab_type": "code",
        "colab": {}
      },
      "cell_type": "code",
      "source": [
        "def round_to_two_places(num):\n",
        "    \"\"\"Return the given number rounded to two decimal places. \n",
        "    \n",
        "    >>> round_to_two_places(3.14159)\n",
        "    3.14\n",
        "    \"\"\"\n",
        "    # Replace this body with your own code.\n",
        "    # (\"pass\" is a keyword that does literally nothing. We used it as a placeholder\n",
        "    # because after we begin a code block, Python requires at least one line of code)\n",
        "    pass\n"
      ],
      "execution_count": 0,
      "outputs": []
    },
    {
      "metadata": {
        "id": "iIzMxLsc5uu4",
        "colab_type": "text"
      },
      "cell_type": "markdown",
      "source": [
        "## 2.\n",
        "The help for `round` says that `ndigits` (the second argument) may be negative.\n",
        "What do you think will happen when it is? Try out some examples in the console (at the bottom of the editor) or in a new code cell.\n",
        "\n",
        "Can you think of a case where this would be useful?"
      ]
    },
    {
      "metadata": {
        "id": "KBJN7V9N7HTq",
        "colab_type": "code",
        "colab": {}
      },
      "cell_type": "code",
      "source": [
        ""
      ],
      "execution_count": 0,
      "outputs": []
    },
    {
      "metadata": {
        "id": "sHQEfhqB5uu9",
        "colab_type": "text"
      },
      "cell_type": "markdown",
      "source": [
        "## 3.\n",
        "\n",
        "In the last exercise, I introduced candy-sharing friends Alice, Bob and Carol. As a reminder, they have some candies which they plan to split evenly among themselves. For the sake of their friendship, any candies left over would be smashed. For example, if they collectively bring home 91 candies, they'll take 30 each and smash 1.\n",
        "\n",
        "Earlier, you wrote some code to calculate how many candies they'd have to smash, assuming they collected a particular number.\n",
        "\n",
        "Below is a simple function that will calculate the number of candies to smash for *any* number of total candies.\n",
        "\n",
        "Modify it so that it optionally takes a second argument representing the number of friends the candies are being split between. If no second argument is provided, it should assume 3 friends, as before.\n",
        "\n",
        "If you're feeling extra fastidious, update the docstring to reflect this new behaviour (but we won't be checking for this)."
      ]
    },
    {
      "metadata": {
        "id": "Dk4Rr0125uu_",
        "colab_type": "code",
        "colab": {}
      },
      "cell_type": "code",
      "source": [
        "def to_smash(total_candies):\n",
        "    \"\"\"Return the number of leftover candies that must be smashed after distributing\n",
        "    the given number of candies evenly between 3 friends.\n",
        "    \n",
        "    >>> to_smash(91)\n",
        "    1\n",
        "    \"\"\"\n",
        "    return total_candies % 3\n"
      ],
      "execution_count": 0,
      "outputs": []
    },
    {
      "metadata": {
        "id": "rTBKw6tH5uvL",
        "colab_type": "text"
      },
      "cell_type": "markdown",
      "source": [
        "## 4.\n",
        "\n",
        "It may not be fun, but reading and understanding error messages will be an important part of your Python career.\n",
        "\n",
        "Each code cell below contains some commented-out buggy code. For each cell...\n",
        "\n",
        "1. Read the code and predict what you think will happen when it's run.\n",
        "2. Then uncomment the code and run it to see what happens. (**Tip**: In the kernel editor, you can highlight several lines and press `ctrl`+`/` to toggle commenting.)\n",
        "3. Fix the code (so that it accomplishes its intended purpose without throwing an exception)\n",
        "\n",
        "<!-- TODO: should this be autochecked? Delta is probably pretty small. -->"
      ]
    },
    {
      "metadata": {
        "id": "Wh2qpuXG5uvM",
        "colab_type": "code",
        "colab": {}
      },
      "cell_type": "code",
      "source": [
        "# ruound_to_two_places(9.9999)"
      ],
      "execution_count": 0,
      "outputs": []
    },
    {
      "metadata": {
        "id": "nPaz9Ids5uvQ",
        "colab_type": "code",
        "colab": {}
      },
      "cell_type": "code",
      "source": [
        "# x = -10\n",
        "# y = 5\n",
        "# # Which of the two variables above has the smallest absolute value?\n",
        "# smallest_abs = min(abs(x, y))"
      ],
      "execution_count": 0,
      "outputs": []
    },
    {
      "metadata": {
        "id": "jG41bZ835uvU",
        "colab_type": "code",
        "colab": {}
      },
      "cell_type": "code",
      "source": [
        "# def f(x):\n",
        "#     y = abs(x)\n",
        "# return y\n",
        "\n",
        "# print(f(5))"
      ],
      "execution_count": 0,
      "outputs": []
    },
    {
      "metadata": {
        "id": "XKsqKWh35uvZ",
        "colab_type": "text"
      },
      "cell_type": "markdown",
      "source": [
        "## 5. <span title=\"A bit spicy\" style=\"color: darkgreen \">🌶️</span>\n",
        "\n",
        "For this question, we'll be using two functions imported from Python's `time` module.\n",
        "\n",
        "The [time](https://docs.python.org/3/library/time.html#time.time) function returns the number of seconds that have passed since the Epoch (aka [Unix time](https://en.wikipedia.org/wiki/Unix_time)). \n",
        "\n",
        "<!-- We've provided a function called `seconds_since_epoch` which returns the number of seconds that have passed since the Epoch (aka [Unix time](https://en.wikipedia.org/wiki/Unix_time)). -->\n",
        "\n",
        "Try it out below. Each time you run it, you should get a slightly larger number."
      ]
    },
    {
      "metadata": {
        "id": "cluMo1jh5uvb",
        "colab_type": "code",
        "colab": {},
        "outputId": "6c2268f1-c752-4d53-b354-0e40645d1bdd"
      },
      "cell_type": "code",
      "source": [
        "# Importing the function 'time' from the module of the same name. \n",
        "# (We'll discuss imports in more depth later)\n",
        "from time import time\n",
        "t = time()\n",
        "print(t, \"seconds since the Epoch\")"
      ],
      "execution_count": 0,
      "outputs": [
        {
          "output_type": "stream",
          "text": [
            "1537596158.6227245 seconds since the Epoch\n"
          ],
          "name": "stdout"
        }
      ]
    },
    {
      "metadata": {
        "id": "wkwvxYo_5uvg",
        "colab_type": "text"
      },
      "cell_type": "markdown",
      "source": [
        "We'll also be using a function called [sleep](https://docs.python.org/3/library/time.html#time.sleep), which makes us wait some number of seconds while it does nothing particular. (Sounds useful, right?)\n",
        "\n",
        "You can see it in action by running the cell below:"
      ]
    },
    {
      "metadata": {
        "id": "sQVFd2t45uvh",
        "colab_type": "code",
        "colab": {},
        "outputId": "9edb1ee0-9653-4349-81bd-e641de851a69"
      },
      "cell_type": "code",
      "source": [
        "from time import sleep\n",
        "duration = 5\n",
        "print(\"Getting sleepy. See you in\", duration, \"seconds\")\n",
        "sleep(duration)\n",
        "print(\"I'm back. What did I miss?\")"
      ],
      "execution_count": 0,
      "outputs": [
        {
          "output_type": "stream",
          "text": [
            "Getting sleepy. See you in 5 seconds\n",
            "I'm back. What did I miss?\n"
          ],
          "name": "stdout"
        }
      ]
    },
    {
      "metadata": {
        "id": "wOqdb3CI5uvl",
        "colab_type": "text"
      },
      "cell_type": "markdown",
      "source": [
        "With the help of these functions, complete the function `time_call` below according to its docstring.\n",
        "\n",
        "<!-- (The sleep function will be useful for testing here since we have a pretty good idea of what something like `time_call(sleep, 1)` should return.) -->"
      ]
    },
    {
      "metadata": {
        "id": "t8qvhtxE5uvn",
        "colab_type": "code",
        "colab": {}
      },
      "cell_type": "code",
      "source": [
        "def time_call(fn, arg):\n",
        "    \"\"\"Return the amount of time the given function takes (in seconds) when called with the given argument.\n",
        "    \"\"\"\n",
        "    pass"
      ],
      "execution_count": 0,
      "outputs": []
    },
    {
      "metadata": {
        "id": "3qw7d8TC8gCZ",
        "colab_type": "code",
        "colab": {}
      },
      "cell_type": "code",
      "source": [
        ""
      ],
      "execution_count": 0,
      "outputs": []
    },
    {
      "metadata": {
        "id": "laINAUlc5uvz",
        "colab_type": "text"
      },
      "cell_type": "markdown",
      "source": [
        "## 6. <span title=\"A bit spicy\" style=\"color: darkgreen \">🌶️</span>\n",
        "\n",
        "*Note: this question depends on a working solution to the previous question.*\n",
        "\n",
        "Complete the function below according to its docstring."
      ]
    },
    {
      "metadata": {
        "id": "BKEnK7u95uv0",
        "colab_type": "code",
        "colab": {}
      },
      "cell_type": "code",
      "source": [
        "def slowest_call(fn, arg1, arg2, arg3):\n",
        "    \"\"\"Return the amount of time taken by the slowest of the following function\n",
        "    calls: fn(arg1), fn(arg2), fn(arg3)\n",
        "    \"\"\"\n",
        "    pass"
      ],
      "execution_count": 0,
      "outputs": []
    },
    {
      "metadata": {
        "id": "N-r3aYxU5uwB",
        "colab_type": "text"
      },
      "cell_type": "markdown",
      "source": [
        "\n",
        "\n",
        "## 7. <span title=\"A bit spicy\" style=\"color: darkgreen \">🌶️</span>\n",
        "\n",
        "What will Python display after we run the following (weird) code? Think carefully about the order in which Python will evaluate each part. When you have a prediction, uncomment and run the code to check whether you were correct."
      ]
    },
    {
      "metadata": {
        "id": "Z_UOQoAs5uwC",
        "colab_type": "code",
        "colab": {}
      },
      "cell_type": "code",
      "source": [
        "#print(print(\"Spam\"))"
      ],
      "execution_count": 0,
      "outputs": []
    },
    {
      "metadata": {
        "id": "YCpClews5uwM",
        "colab_type": "text"
      },
      "cell_type": "markdown",
      "source": [
        "## 8. <span title=\"Spicy - this optional problem is intended to be extra difficult\" style=\"color: coral\">🌶️🌶️</span>\n",
        "\n",
        "Read the function definition below. What do you think will be returned by the function call at the bottom of the cell? Will it match the docstring example? Return something else? Or will Python raise an exception? When you're ready, run the code cell to find out."
      ]
    },
    {
      "metadata": {
        "id": "a1WXzGE65uwO",
        "colab_type": "code",
        "colab": {
          "base_uri": "https://localhost:8080/",
          "height": 34
        },
        "outputId": "20a86454-d7ca-4727-b4c4-2e8f061f3642"
      },
      "cell_type": "code",
      "source": [
        "def smallest_stringy_number(s1, s2, s3):\n",
        "    \"\"\"Return whichever of the three string arguments represents the smallest number.\n",
        "    \n",
        "    >>> smallest_stringy_number('1', '2', '3')\n",
        "    '1'\n",
        "    \"\"\"\n",
        "    return min(s1, s2, s3)\n",
        "\n",
        "smallest_stringy_number('1', '2', '3')"
      ],
      "execution_count": 1,
      "outputs": [
        {
          "output_type": "execute_result",
          "data": {
            "text/plain": [
              "'1'"
            ]
          },
          "metadata": {
            "tags": []
          },
          "execution_count": 1
        }
      ]
    },
    {
      "metadata": {
        "id": "W6wO7nfo5uwR",
        "colab_type": "text"
      },
      "cell_type": "markdown",
      "source": [
        "<br/><br/><br/><br/><br/><br/><br/><br/><br/>\n",
        "\n",
        "(If you thought it would raise an exception, that's a perfectly reasonable guess. A large portion of learning Python is just trying stuff out and seeing what happens! A lot of arbitrary or at least subjective decisions go into designing a programming language, and it's not always possible to deduce from first principles how Python will handle a particular situation.)\n",
        "\n",
        "But in this case, the `min` function gamely accepts our string inputs and seems to work as desired! Or, at least on the example in the docstring. However, there's a subtle problem afoot. Try experimenting with the function to see if you can find a set of inputs where it fails. Can you see where it's going wrong?"
      ]
    },
    {
      "metadata": {
        "id": "IZOhMXpV5uwZ",
        "colab_type": "text"
      },
      "cell_type": "markdown",
      "source": [
        "### b.\n",
        "\n",
        "In the cell below, modify `smallest_stringy_number` to fix the bug you identified in part a.\n",
        "\n",
        "Reminder: [In the first lesson](https://www.kaggle.com/colinmorris/hello-python), we briefly saw that `int` can be called on strings such as `'32'` to get the corresponding integer value.\n",
        "\n",
        "**Bonus**: Can you keep the function's body down to one line? (Try to only use tools we've seen so far - i.e. no loops, conditionals, etc.)"
      ]
    },
    {
      "metadata": {
        "id": "26KaBlPP5uwb",
        "colab_type": "code",
        "colab": {}
      },
      "cell_type": "code",
      "source": [
        "def smallest_stringy_number(s1, s2, s3):\n",
        "    \"\"\"Return whichever of the three string arguments represents the smallest number.\n",
        "    \n",
        "    >>> smallest_stringy_number('1', '2', '3')\n",
        "    '1'\n",
        "    \"\"\"\n",
        "    return min(s1, s2, s3)\n",
        "\n",
        "q8.b.check()"
      ],
      "execution_count": 0,
      "outputs": []
    }
  ]
}